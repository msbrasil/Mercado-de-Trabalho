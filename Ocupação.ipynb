{
 "cells": [
  {
   "cell_type": "code",
   "execution_count": 2,
   "metadata": {},
   "outputs": [],
   "source": [
    "#Importa os pacotes necessários\n",
    "\n",
    "import pandas as pd\n",
    "import numpy as np\n",
    "import matplotlib.pyplot as plt\n",
    "import seaborn as sns\n",
    "import datetime as dt\n",
    "plt.style.use('dark_background')"
   ]
  },
  {
   "cell_type": "markdown",
   "metadata": {},
   "source": [
    "#### Importação e tratamento dos microdados"
   ]
  },
  {
   "cell_type": "markdown",
   "metadata": {},
   "source": [
    "#### Dicionário de Variáveis utilizadas\n",
    "|Chave|Descrição|Função|\n",
    "|-----|-----|-----|\n",
    "|**Identificação**|\n",
    "|Ano| Ano de referência|Controle|\n",
    "|Trimestre| Trimestre de referência|Controle|\n",
    "|UF| Estado|Controle|\n",
    "|Capital| Capital da UF|Controle|\n",
    "|UPA| Unidade Primária de Amostragem (UF(2) + número squencial(6) + DV(1))|Controle|\n",
    "|V1008| Número do Domicílio|Controle|\n",
    "|V1014| Painel - Grupo de Controle|Controle|\n",
    "|V1016| Número de entrevista (1 a 5)|Controle|\n",
    "|V2003| Número de ordem|Controle|\n",
    "|**Características**|\n",
    "|V2007| Sexo|Característica|\n",
    "|V2008| Dia Nascimento|Característica|\n",
    "|V20081| Mês nascimento|Característica|\n",
    "|V20082| Ano nascimento|Característica|\n",
    "|V2010| Raça|Característica|\n",
    "|**Variáveis exploradas**|\n",
    "| VD4001 | Condição em relação à força de trabalho na semana de referência para pessoas de 14 anos ou mais de idade | Descrição |\n",
    "| VD4002 | Condição de ocupação na semana de referência para pessoas de 14 anos ou mais de idade | Descrição |\n",
    "| VD4003 | Força de trabalho potencial para pessoas de 14 anos ou mais de idade | Descrição |\n",
    "| VD4004A | Subocupação por insuficiência de horas efetivamente trabalhadas em todos os trabalhos | Descrição |\n",
    "| VD4005 | Pessoas desalentadas na semana de referência | Descrição |\n",
    "|**Auxiliares**|\n",
    "|V1028| Peso do domicílio e das pessoas sem calibração|Expansão|\n",
    "|V1029| Peso do domicílio e das pessoas com calibração|Expansão|\n",
    "|V1033| Projeção da população por sexo e idade|Expansão|\n",
    "|posest|Domínios de projeção geográficos|Expansão|\n",
    "\n",
    " Chave para pessoa: UPA + V1008 + V1014  + V2003 + V2007 + V2008 + V20081 + V20082\n",
    "\n",
    " **PARA ESTIMAÇÃO DA POPULAÇÃO, DEVE-SE USAR AS VARIÁVEIS: V1033 e posest.**\n",
    "\n"
   ]
  },
  {
   "cell_type": "markdown",
   "metadata": {},
   "source": [
    "Importação dos microdados"
   ]
  },
  {
   "cell_type": "code",
   "execution_count": 3,
   "metadata": {},
   "outputs": [
    {
     "name": "stdout",
     "output_type": "stream",
     "text": [
      "lendo PNAD2019 4\n",
      "lendo PNAD2020 1\n",
      "lendo PNAD2020 2\n",
      "lendo PNAD2020 3\n",
      "lendo PNAD2020 4\n",
      "lendo PNAD2021 1\n",
      "lendo PNAD2021 2\n",
      "lendo PNAD2021 3\n",
      "lendo PNAD2021 4\n",
      "lendo PNAD2022 1\n",
      "lendo PNAD2022 2\n"
     ]
    }
   ],
   "source": [
    "#determina qual diretório usar para cada sistema operacional.\n",
    "import os\n",
    "if os.name == 'nt': #windows\n",
    "    diretorio = 'C:\\\\Users\\\\est.matheus.brasil\\\\Documents\\\\Microdados PNAD Contínua\\\\feather\\\\'\n",
    "\n",
    "else: #linux(ou mac)\n",
    "    diretorio = '/home/matheus/Microdados PNAD/feather/'\n",
    "\n",
    "#Leitura de todas as bases com as variáveis selecionadas e criação de variáveis dinamicamente.\n",
    "\n",
    "colunas_selecionadas = ['Ano', 'Trimestre', 'UPA', 'UF', 'V1008', 'V1014', 'V2007', 'V2008', 'V20081', 'V20082', 'V2010', #Controle e chave ID\n",
    "                        'VD4001', #Variáveis de interesse\n",
    "                        'V1027', 'V1028', 'V1029', 'V1033', 'posest', 'posest_sxi'] #expansão\n",
    "                    \n",
    "for ano in range(2019, 2023):\n",
    "    for tri in range(1, 5):\n",
    "        if ano == 2019  and tri > 3:\n",
    "                print(f'lendo PNAD{ano} {tri}')\n",
    "                globals()[f'pnad_{ano}_{tri}'] = pd.read_feather(fr'{diretorio}{ano}_{tri}.feather', columns=colunas_selecionadas)\n",
    "        if 2019 < ano < 2022:\n",
    "                print(f'lendo PNAD{ano} {tri}')\n",
    "                globals()[f'pnad_{ano}_{tri}'] = pd.read_feather(fr'{diretorio}{ano}_{tri}.feather', columns=colunas_selecionadas)\n",
    "        if ano == 2022 and tri < 3:\n",
    "            print(f'lendo PNAD{ano} {tri}')\n",
    "            globals()[f'pnad_{ano}_{tri}'] = pd.read_feather(fr'{diretorio}{ano}_{tri}.feather', columns=colunas_selecionadas)\n"
   ]
  },
  {
   "cell_type": "code",
   "execution_count": 4,
   "metadata": {},
   "outputs": [],
   "source": [
    "#Concatena todos os dataframes de cada ano e trimestre em uma unica tabela.\n",
    "\n",
    "pnadc_completa = pd.concat([pnad_2019_4, \n",
    "                            pnad_2020_1, \n",
    "                            pnad_2020_2, \n",
    "                            pnad_2020_3, \n",
    "                            pnad_2020_4, \n",
    "                            pnad_2021_1, \n",
    "                            pnad_2021_2, \n",
    "                            pnad_2021_3, \n",
    "                            pnad_2021_4, \n",
    "                            pnad_2022_1, \n",
    "                            pnad_2022_2])\n",
    "                            \n",
    "#Converte variável para criar ID\n",
    "pnadc_completa['V2007'] = np.where(pnadc_completa['V2007'] == 'Homem', 0, 1)\n",
    "#Converte variáveis para numéricas\n",
    "pnadc_completa['UPA'] = pd.to_numeric(pnadc_completa['UPA'] , errors='coerce') \n",
    "pnadc_completa['V1008'] = pd.to_numeric(pnadc_completa['V1008'] , errors='coerce') \n",
    "pnadc_completa['V1014'] = pd.to_numeric(pnadc_completa['V1014'] , errors='coerce') \n",
    "pnadc_completa['V2007'] = pd.to_numeric(pnadc_completa['V2007'] , errors='coerce') \n",
    "pnadc_completa['V2008'] = pd.to_numeric(pnadc_completa['V2008'] , errors='coerce') \n",
    "pnadc_completa['V20081'] = pd.to_numeric(pnadc_completa['V20081'] , errors='coerce') \n",
    "pnadc_completa['V20082'] = pd.to_numeric(pnadc_completa['V20082'] , errors='coerce') "
   ]
  },
  {
   "cell_type": "code",
   "execution_count": 5,
   "metadata": {},
   "outputs": [],
   "source": [
    "\n",
    "#Cria chave ID e novo df\n",
    "pnadc_completa = pd.DataFrame({\n",
    "    #Controle\n",
    "    'Ano':pnadc_completa['Ano'], \n",
    "    'Trimestre':pnadc_completa['Trimestre'],\n",
    "    'UPA':pnadc_completa['UPA'],\n",
    "    'UF':pnadc_completa['UF'],\n",
    "    'V2007':pnadc_completa['V2007'],\n",
    "    #ID  \n",
    "    'ID': pnadc_completa['UPA'] + \n",
    "        pnadc_completa['V1008'] + \n",
    "        pnadc_completa['V1014'] + \n",
    "        pnadc_completa['V2007'] +\n",
    "        pnadc_completa['V2008'] +\n",
    "        pnadc_completa['V20081'] +\n",
    "        pnadc_completa['V20082'],\n",
    "    #Exploradas\n",
    "    'VD4001': pnadc_completa['VD4001'],\n",
    "    #Expansão\n",
    "    'V1027': pnadc_completa['V1027'],\n",
    "    'V1028': pnadc_completa['V1028'],\n",
    "    'V1029': pnadc_completa['V1029'],\n",
    "    'V1033': pnadc_completa['V1033'],\n",
    "    'posest': pnadc_completa['posest'],\n",
    "    'posest_sxi': pnadc_completa['posest_sxi']\n",
    "    })\n",
    "\n",
    "#Reverte alteração da coluna V2007 para os rótulos anteiores\n",
    "pnadc_completa['V2007'] = pnadc_completa['V2007'].apply(lambda x: 'Homem' if x == 0 else 'Mulher')\n"
   ]
  },
  {
   "cell_type": "code",
   "execution_count": 6,
   "metadata": {},
   "outputs": [],
   "source": [
    "# Ordernação da série histórica por ano e trimestre.\n",
    "pnadc_completa.sort_values(by=['Ano', 'Trimestre'], inplace=True)\n",
    "#concatena a coluna 'Ano' e 'Trimestre' em uma única coluna.\n",
    "pnadc_completa['ano_tri'] = pnadc_completa['Ano'].astype(str) + 'Q' + pnadc_completa['Trimestre'].astype(str)\n",
    "#Conversão da coluna ano_tri para datetime.\n",
    "pnadc_completa['ano_tri'] = pd.to_datetime(pnadc_completa['ano_tri']).dt.to_period('Q')"
   ]
  },
  {
   "cell_type": "code",
   "execution_count": 34,
   "metadata": {},
   "outputs": [],
   "source": [
    "condicao_forca_trab = pd.crosstab(\n",
    "                        index=pnadc_completa['ano_tri'],\n",
    "                        columns=pnadc_completa['VD4001'],\n",
    "                        values=pnadc_completa['V1028'], aggfunc='sum') / 1000"
   ]
  },
  {
   "cell_type": "code",
   "execution_count": 35,
   "metadata": {},
   "outputs": [
    {
     "data": {
      "text/html": [
       "<div>\n",
       "<style scoped>\n",
       "    .dataframe tbody tr th:only-of-type {\n",
       "        vertical-align: middle;\n",
       "    }\n",
       "\n",
       "    .dataframe tbody tr th {\n",
       "        vertical-align: top;\n",
       "    }\n",
       "\n",
       "    .dataframe thead th {\n",
       "        text-align: right;\n",
       "    }\n",
       "</style>\n",
       "<table border=\"1\" class=\"dataframe\">\n",
       "  <thead>\n",
       "    <tr style=\"text-align: right;\">\n",
       "      <th>ano_tri</th>\n",
       "      <th>2019Q4</th>\n",
       "      <th>2020Q1</th>\n",
       "      <th>2020Q2</th>\n",
       "      <th>2020Q3</th>\n",
       "      <th>2020Q4</th>\n",
       "      <th>2021Q1</th>\n",
       "      <th>2021Q2</th>\n",
       "      <th>2021Q3</th>\n",
       "      <th>2021Q4</th>\n",
       "      <th>2022Q1</th>\n",
       "      <th>2022Q2</th>\n",
       "    </tr>\n",
       "    <tr>\n",
       "      <th>VD4001</th>\n",
       "      <th></th>\n",
       "      <th></th>\n",
       "      <th></th>\n",
       "      <th></th>\n",
       "      <th></th>\n",
       "      <th></th>\n",
       "      <th></th>\n",
       "      <th></th>\n",
       "      <th></th>\n",
       "      <th></th>\n",
       "      <th></th>\n",
       "    </tr>\n",
       "  </thead>\n",
       "  <tbody>\n",
       "    <tr>\n",
       "      <th>Pessoas fora da força de trabalho</th>\n",
       "      <td>61579.114208</td>\n",
       "      <td>63164.105671</td>\n",
       "      <td>72572.974749</td>\n",
       "      <td>72233.570501</td>\n",
       "      <td>69041.594939</td>\n",
       "      <td>68745.610836</td>\n",
       "      <td>67269.525552</td>\n",
       "      <td>65456.153739</td>\n",
       "      <td>64525.083239</td>\n",
       "      <td>65453.786571</td>\n",
       "      <td>64718.731771</td>\n",
       "    </tr>\n",
       "    <tr>\n",
       "      <th>Pessoas na força de trabalho</th>\n",
       "      <td>107417.659793</td>\n",
       "      <td>106262.512332</td>\n",
       "      <td>97279.312253</td>\n",
       "      <td>98036.923513</td>\n",
       "      <td>101636.886122</td>\n",
       "      <td>102338.858313</td>\n",
       "      <td>104215.850702</td>\n",
       "      <td>106429.835435</td>\n",
       "      <td>107758.093762</td>\n",
       "      <td>107224.303429</td>\n",
       "      <td>108349.086280</td>\n",
       "    </tr>\n",
       "  </tbody>\n",
       "</table>\n",
       "</div>"
      ],
      "text/plain": [
       "ano_tri                                   2019Q4         2020Q1        2020Q2  \\\n",
       "VD4001                                                                          \n",
       "Pessoas fora da força de trabalho   61579.114208   63164.105671  72572.974749   \n",
       "Pessoas na força de trabalho       107417.659793  106262.512332  97279.312253   \n",
       "\n",
       "ano_tri                                  2020Q3         2020Q4         2021Q1  \\\n",
       "VD4001                                                                          \n",
       "Pessoas fora da força de trabalho  72233.570501   69041.594939   68745.610836   \n",
       "Pessoas na força de trabalho       98036.923513  101636.886122  102338.858313   \n",
       "\n",
       "ano_tri                                   2021Q2         2021Q3  \\\n",
       "VD4001                                                            \n",
       "Pessoas fora da força de trabalho   67269.525552   65456.153739   \n",
       "Pessoas na força de trabalho       104215.850702  106429.835435   \n",
       "\n",
       "ano_tri                                   2021Q4         2022Q1         2022Q2  \n",
       "VD4001                                                                          \n",
       "Pessoas fora da força de trabalho   64525.083239   65453.786571   64718.731771  \n",
       "Pessoas na força de trabalho       107758.093762  107224.303429  108349.086280  "
      ]
     },
     "execution_count": 35,
     "metadata": {},
     "output_type": "execute_result"
    }
   ],
   "source": [
    "condicao_forca_trab.transpose()"
   ]
  },
  {
   "cell_type": "code",
   "execution_count": 24,
   "metadata": {},
   "outputs": [
    {
     "data": {
      "image/png": "[encoded data removed]",
      "text/plain": [
       "<Figure size 700x500 with 1 Axes>"
      ]
     },
     "metadata": {},
     "output_type": "display_data"
    }
   ],
   "source": [
    "condicao_forca_trab.plot(stacked=True, figsize=(7, 5), title='Força de Trabalho por Condição de Trabalho')\n",
    "plt.show()"
   ]
  }
 ],
 "metadata": {
  "kernelspec": {
   "display_name": "Python 3.9.12 ('econometria')",
   "language": "python",
   "name": "python3"
  },
  "language_info": {
   "codemirror_mode": {
    "name": "ipython",
    "version": 3
   },
   "file_extension": ".py",
   "mimetype": "text/x-python",
   "name": "python",
   "nbconvert_exporter": "python",
   "pygments_lexer": "ipython3",
   "version": "3.9.12"
  },
  "orig_nbformat": 4,
  "vscode": {
   "interpreter": {
    "hash": "2d77b586cfa25f3cadafc2a7d9d2ffb1689fffb3b5bbb5f99a0b413248eba82d"
   }
  }
 },
 "nbformat": 4,
 "nbformat_minor": 2
}
