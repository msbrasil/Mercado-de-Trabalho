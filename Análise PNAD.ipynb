{
 "cells": [
  {
   "cell_type": "markdown",
   "metadata": {},
   "source": [
    "### Pacotes"
   ]
  },
  {
   "cell_type": "code",
   "execution_count": 2,
   "metadata": {},
   "outputs": [],
   "source": [
    "import pandas as pd\n",
    "import numpy as np\n",
    "import matplotlib.pyplot as plt\n",
    "#import basedosdados as bd"
   ]
  },
  {
   "cell_type": "markdown",
   "metadata": {},
   "source": [
    "### Importação do dataset"
   ]
  },
  {
   "cell_type": "code",
   "execution_count": 5,
   "metadata": {},
   "outputs": [
    {
     "name": "stderr",
     "output_type": "stream",
     "text": [
      "c:\\Users\\est.matheus.brasil\\Anaconda3\\lib\\site-packages\\IPython\\core\\interactiveshell.py:3172: DtypeWarning: Columns (4,5,37,47,48,58,65,71,91,92,100,101,103,104,109,110,120,122,123,124,125,131,132,134,135,140,141,145,146,147,148,150,151,153,154,155,156,157,158,160,161,175) have mixed types.Specify dtype option on import or set low_memory=False.\n",
      "  has_raised = await self.run_ast_nodes(code_ast.body, cell_name,\n"
     ]
    }
   ],
   "source": [
    "pnad = pd.read_csv(r'C:\\Users\\est.matheus.brasil\\Documents\\PNAD\\PNAD CONTÍNUA\\pnad2022-2.csv', sep=',', encoding='latin1')"
   ]
  },
  {
   "cell_type": "code",
   "execution_count": 8,
   "metadata": {},
   "outputs": [
    {
     "data": {
      "text/plain": [
       "(482118, 424)"
      ]
     },
     "execution_count": 8,
     "metadata": {},
     "output_type": "execute_result"
    }
   ],
   "source": [
    "pnad.shape"
   ]
  },
  {
   "cell_type": "code",
   "execution_count": 6,
   "metadata": {},
   "outputs": [
    {
     "data": {
      "text/html": [
       "<div>\n",
       "<style scoped>\n",
       "    .dataframe tbody tr th:only-of-type {\n",
       "        vertical-align: middle;\n",
       "    }\n",
       "\n",
       "    .dataframe tbody tr th {\n",
       "        vertical-align: top;\n",
       "    }\n",
       "\n",
       "    .dataframe thead th {\n",
       "        text-align: right;\n",
       "    }\n",
       "</style>\n",
       "<table border=\"1\" class=\"dataframe\">\n",
       "  <thead>\n",
       "    <tr style=\"text-align: right;\">\n",
       "      <th></th>\n",
       "      <th>Unnamed: 0</th>\n",
       "      <th>Ano</th>\n",
       "      <th>Trimestre</th>\n",
       "      <th>UF</th>\n",
       "      <th>Capital</th>\n",
       "      <th>RM_RIDE</th>\n",
       "      <th>UPA</th>\n",
       "      <th>Estrato</th>\n",
       "      <th>V1008</th>\n",
       "      <th>V1014</th>\n",
       "      <th>...</th>\n",
       "      <th>V1028194</th>\n",
       "      <th>V1028195</th>\n",
       "      <th>V1028196</th>\n",
       "      <th>V1028197</th>\n",
       "      <th>V1028198</th>\n",
       "      <th>V1028199</th>\n",
       "      <th>V1028200</th>\n",
       "      <th>ID_DOMICILIO</th>\n",
       "      <th>Habitual</th>\n",
       "      <th>Efetivo</th>\n",
       "    </tr>\n",
       "  </thead>\n",
       "  <tbody>\n",
       "    <tr>\n",
       "      <th>0</th>\n",
       "      <td>1</td>\n",
       "      <td>2022</td>\n",
       "      <td>2</td>\n",
       "      <td>Rondônia</td>\n",
       "      <td>Município de Porto Velho (RO)</td>\n",
       "      <td>NaN</td>\n",
       "      <td>110000016</td>\n",
       "      <td>1110011</td>\n",
       "      <td>2</td>\n",
       "      <td>9</td>\n",
       "      <td>...</td>\n",
       "      <td>166.433582</td>\n",
       "      <td>164.737382</td>\n",
       "      <td>176.277119</td>\n",
       "      <td>0.0</td>\n",
       "      <td>0.0</td>\n",
       "      <td>162.966617</td>\n",
       "      <td>173.639546</td>\n",
       "      <td>1100000160209</td>\n",
       "      <td>1</td>\n",
       "      <td>1.006092</td>\n",
       "    </tr>\n",
       "    <tr>\n",
       "      <th>1</th>\n",
       "      <td>2</td>\n",
       "      <td>2022</td>\n",
       "      <td>2</td>\n",
       "      <td>Rondônia</td>\n",
       "      <td>Município de Porto Velho (RO)</td>\n",
       "      <td>NaN</td>\n",
       "      <td>110000016</td>\n",
       "      <td>1110011</td>\n",
       "      <td>2</td>\n",
       "      <td>9</td>\n",
       "      <td>...</td>\n",
       "      <td>166.433582</td>\n",
       "      <td>164.737382</td>\n",
       "      <td>176.277119</td>\n",
       "      <td>0.0</td>\n",
       "      <td>0.0</td>\n",
       "      <td>162.966617</td>\n",
       "      <td>173.639546</td>\n",
       "      <td>1100000160209</td>\n",
       "      <td>1</td>\n",
       "      <td>1.006092</td>\n",
       "    </tr>\n",
       "    <tr>\n",
       "      <th>2</th>\n",
       "      <td>3</td>\n",
       "      <td>2022</td>\n",
       "      <td>2</td>\n",
       "      <td>Rondônia</td>\n",
       "      <td>Município de Porto Velho (RO)</td>\n",
       "      <td>NaN</td>\n",
       "      <td>110000016</td>\n",
       "      <td>1110011</td>\n",
       "      <td>2</td>\n",
       "      <td>9</td>\n",
       "      <td>...</td>\n",
       "      <td>166.433582</td>\n",
       "      <td>164.737382</td>\n",
       "      <td>176.277119</td>\n",
       "      <td>0.0</td>\n",
       "      <td>0.0</td>\n",
       "      <td>162.966617</td>\n",
       "      <td>173.639546</td>\n",
       "      <td>1100000160209</td>\n",
       "      <td>1</td>\n",
       "      <td>1.006092</td>\n",
       "    </tr>\n",
       "    <tr>\n",
       "      <th>3</th>\n",
       "      <td>4</td>\n",
       "      <td>2022</td>\n",
       "      <td>2</td>\n",
       "      <td>Rondônia</td>\n",
       "      <td>Município de Porto Velho (RO)</td>\n",
       "      <td>NaN</td>\n",
       "      <td>110000016</td>\n",
       "      <td>1110011</td>\n",
       "      <td>2</td>\n",
       "      <td>9</td>\n",
       "      <td>...</td>\n",
       "      <td>166.433582</td>\n",
       "      <td>164.737382</td>\n",
       "      <td>176.277119</td>\n",
       "      <td>0.0</td>\n",
       "      <td>0.0</td>\n",
       "      <td>162.966617</td>\n",
       "      <td>173.639546</td>\n",
       "      <td>1100000160209</td>\n",
       "      <td>1</td>\n",
       "      <td>1.006092</td>\n",
       "    </tr>\n",
       "    <tr>\n",
       "      <th>4</th>\n",
       "      <td>5</td>\n",
       "      <td>2022</td>\n",
       "      <td>2</td>\n",
       "      <td>Rondônia</td>\n",
       "      <td>Município de Porto Velho (RO)</td>\n",
       "      <td>NaN</td>\n",
       "      <td>110000016</td>\n",
       "      <td>1110011</td>\n",
       "      <td>2</td>\n",
       "      <td>9</td>\n",
       "      <td>...</td>\n",
       "      <td>166.433582</td>\n",
       "      <td>164.737382</td>\n",
       "      <td>176.277119</td>\n",
       "      <td>0.0</td>\n",
       "      <td>0.0</td>\n",
       "      <td>162.966617</td>\n",
       "      <td>173.639546</td>\n",
       "      <td>1100000160209</td>\n",
       "      <td>1</td>\n",
       "      <td>1.006092</td>\n",
       "    </tr>\n",
       "  </tbody>\n",
       "</table>\n",
       "<p>5 rows × 424 columns</p>\n",
       "</div>"
      ],
      "text/plain": [
       "   Unnamed: 0   Ano  Trimestre        UF                        Capital  \\\n",
       "0           1  2022          2  Rondônia  Município de Porto Velho (RO)   \n",
       "1           2  2022          2  Rondônia  Município de Porto Velho (RO)   \n",
       "2           3  2022          2  Rondônia  Município de Porto Velho (RO)   \n",
       "3           4  2022          2  Rondônia  Município de Porto Velho (RO)   \n",
       "4           5  2022          2  Rondônia  Município de Porto Velho (RO)   \n",
       "\n",
       "  RM_RIDE        UPA  Estrato  V1008  V1014  ...    V1028194    V1028195  \\\n",
       "0     NaN  110000016  1110011      2      9  ...  166.433582  164.737382   \n",
       "1     NaN  110000016  1110011      2      9  ...  166.433582  164.737382   \n",
       "2     NaN  110000016  1110011      2      9  ...  166.433582  164.737382   \n",
       "3     NaN  110000016  1110011      2      9  ...  166.433582  164.737382   \n",
       "4     NaN  110000016  1110011      2      9  ...  166.433582  164.737382   \n",
       "\n",
       "     V1028196  V1028197  V1028198    V1028199    V1028200   ID_DOMICILIO  \\\n",
       "0  176.277119       0.0       0.0  162.966617  173.639546  1100000160209   \n",
       "1  176.277119       0.0       0.0  162.966617  173.639546  1100000160209   \n",
       "2  176.277119       0.0       0.0  162.966617  173.639546  1100000160209   \n",
       "3  176.277119       0.0       0.0  162.966617  173.639546  1100000160209   \n",
       "4  176.277119       0.0       0.0  162.966617  173.639546  1100000160209   \n",
       "\n",
       "   Habitual   Efetivo  \n",
       "0         1  1.006092  \n",
       "1         1  1.006092  \n",
       "2         1  1.006092  \n",
       "3         1  1.006092  \n",
       "4         1  1.006092  \n",
       "\n",
       "[5 rows x 424 columns]"
      ]
     },
     "execution_count": 6,
     "metadata": {},
     "output_type": "execute_result"
    }
   ],
   "source": [
    "pnad.head()"
   ]
  },
  {
   "cell_type": "markdown",
   "metadata": {},
   "source": [
    "### AED"
   ]
  },
  {
   "cell_type": "code",
   "execution_count": 9,
   "metadata": {},
   "outputs": [
    {
     "data": {
      "text/plain": [
       "Index(['Unnamed: 0', 'Ano', 'Trimestre', 'UF', 'Capital', 'RM_RIDE', 'UPA',\n",
       "       'Estrato', 'V1008', 'V1014',\n",
       "       ...\n",
       "       'V1028194', 'V1028195', 'V1028196', 'V1028197', 'V1028198', 'V1028199',\n",
       "       'V1028200', 'ID_DOMICILIO', 'Habitual', 'Efetivo'],\n",
       "      dtype='object', length=424)"
      ]
     },
     "execution_count": 9,
     "metadata": {},
     "output_type": "execute_result"
    }
   ],
   "source": [
    "#Identificação - UF\n",
    "#Característica - Cor ou raça V2010\n",
    "#Característica - Curso vai elevado que frequentou V3009A \n",
    "##Característica - Se concluiu V3014\n",
    "#Característica Trabalho - Onde exercia V4022"
   ]
  },
  {
   "cell_type": "code",
   "execution_count": 72,
   "metadata": {},
   "outputs": [],
   "source": [
    "selecao = [\n",
    "    'UF', \n",
    "    'V2010', \n",
    "    'V3009A',\n",
    "    'V3014', \n",
    "    'V4022']\n",
    "    \n",
    "pnad_selecionada = pnad[selecao]"
   ]
  },
  {
   "cell_type": "code",
   "execution_count": 73,
   "metadata": {},
   "outputs": [],
   "source": [
    "pnad_filtrada = pnad_selecionada[\n",
    "    (pnad_selecionada['UF'] == 'Paraná') & \n",
    "    (pnad_selecionada['V3014'] == 'Sim') & \n",
    "    ((pnad_selecionada['V3009A'] == 'Superior - graduação') | \n",
    "    (pnad_selecionada['V3009A'] == 'Especialização de nível superior') | \n",
    "    (pnad_selecionada['V3009A'] == 'Mestrado') | \n",
    "    (pnad_selecionada['V3009A'] == 'Doutorado')) &\n",
    "    ((pnad_selecionada['V4022'] == 'No domicílio de residência, em local exclusivo para o desempenho da atividade') |\n",
    "    (pnad_selecionada['V4022'] == 'No domicílio de residência, sem local exclusivo para o desempenho da atividade'))\n",
    "    ]"
   ]
  },
  {
   "cell_type": "code",
   "execution_count": 81,
   "metadata": {},
   "outputs": [
    {
     "data": {
      "text/html": [
       "<div>\n",
       "<style scoped>\n",
       "    .dataframe tbody tr th:only-of-type {\n",
       "        vertical-align: middle;\n",
       "    }\n",
       "\n",
       "    .dataframe tbody tr th {\n",
       "        vertical-align: top;\n",
       "    }\n",
       "\n",
       "    .dataframe thead th {\n",
       "        text-align: right;\n",
       "    }\n",
       "</style>\n",
       "<table border=\"1\" class=\"dataframe\">\n",
       "  <thead>\n",
       "    <tr style=\"text-align: right;\">\n",
       "      <th></th>\n",
       "      <th>V2010</th>\n",
       "    </tr>\n",
       "    <tr>\n",
       "      <th>V2010</th>\n",
       "      <th></th>\n",
       "    </tr>\n",
       "  </thead>\n",
       "  <tbody>\n",
       "    <tr>\n",
       "      <th>Amarela</th>\n",
       "      <td>6</td>\n",
       "    </tr>\n",
       "    <tr>\n",
       "      <th>Branca</th>\n",
       "      <td>148</td>\n",
       "    </tr>\n",
       "    <tr>\n",
       "      <th>Indígena</th>\n",
       "      <td>1</td>\n",
       "    </tr>\n",
       "    <tr>\n",
       "      <th>Parda</th>\n",
       "      <td>31</td>\n",
       "    </tr>\n",
       "    <tr>\n",
       "      <th>Preta</th>\n",
       "      <td>3</td>\n",
       "    </tr>\n",
       "  </tbody>\n",
       "</table>\n",
       "</div>"
      ],
      "text/plain": [
       "          V2010\n",
       "V2010          \n",
       "Amarela       6\n",
       "Branca      148\n",
       "Indígena      1\n",
       "Parda        31\n",
       "Preta         3"
      ]
     },
     "execution_count": 81,
     "metadata": {},
     "output_type": "execute_result"
    }
   ],
   "source": [
    "pnad_filtrada.groupby('V2010')[['V2010']].count()"
   ]
  }
 ],
 "metadata": {
  "kernelspec": {
   "display_name": "Python 3.9.7 ('base')",
   "language": "python",
   "name": "python3"
  },
  "language_info": {
   "codemirror_mode": {
    "name": "ipython",
    "version": 3
   },
   "file_extension": ".py",
   "mimetype": "text/x-python",
   "name": "python",
   "nbconvert_exporter": "python",
   "pygments_lexer": "ipython3",
   "version": "3.9.7"
  },
  "orig_nbformat": 4,
  "vscode": {
   "interpreter": {
    "hash": "08a400adeb6830322ec40344573c657b15a9eb2eef6e1c7ab2815bda50c98d3e"
   }
  }
 },
 "nbformat": 4,
 "nbformat_minor": 2
}
