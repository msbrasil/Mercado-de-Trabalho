{
 "cells": [
  {
   "cell_type": "code",
   "execution_count": 1,
   "metadata": {},
   "outputs": [
    {
     "ename": "ModuleNotFoundError",
     "evalue": "No module named 'geopandas'",
     "output_type": "error",
     "traceback": [
      "\u001b[1;31m---------------------------------------------------------------------------\u001b[0m",
      "\u001b[1;31mModuleNotFoundError\u001b[0m                       Traceback (most recent call last)",
      "\u001b[1;32mc:\\Github\\Pessoal\\Mercado-de-Trabalho\\geopandas.ipynb Célula: 1\u001b[0m in \u001b[0;36m<cell line: 1>\u001b[1;34m()\u001b[0m\n\u001b[1;32m----> <a href='vscode-notebook-cell:/c%3A/Github/Pessoal/Mercado-de-Trabalho/geopandas.ipynb#W0sZmlsZQ%3D%3D?line=0'>1</a>\u001b[0m \u001b[39mimport\u001b[39;00m \u001b[39mgeopandas\u001b[39;00m \u001b[39mas\u001b[39;00m \u001b[39mgpd\u001b[39;00m\n",
      "\u001b[1;31mModuleNotFoundError\u001b[0m: No module named 'geopandas'"
     ]
    }
   ],
   "source": [
    "import geopandas as gpd"
   ]
  },
  {
   "cell_type": "code",
   "execution_count": 2,
   "metadata": {},
   "outputs": [
    {
     "name": "stdout",
     "output_type": "stream",
     "text": [
      "Collecting geopandas\n",
      "  Downloading geopandas-0.12.1-py3-none-any.whl (1.1 MB)\n",
      "Collecting fiona>=1.8\n",
      "  Downloading Fiona-1.8.22-cp310-cp310-win_amd64.whl (21.7 MB)\n",
      "Collecting pyproj>=2.6.1.post1\n",
      "  Downloading pyproj-3.4.0-cp310-cp310-win_amd64.whl (4.8 MB)\n",
      "Requirement already satisfied: pandas>=1.0.0 in c:\\users\\est.matheus.brasil\\anaconda3\\envs\\econometria\\lib\\site-packages (from geopandas) (1.4.2)\n",
      "Requirement already satisfied: packaging in c:\\users\\est.matheus.brasil\\anaconda3\\envs\\econometria\\lib\\site-packages (from geopandas) (21.3)Note: you may need to restart the kernel to use updated packages.\n",
      "Collecting shapely>=1.7\n",
      "  Downloading Shapely-1.8.5.post1-cp310-cp310-win_amd64.whl (1.3 MB)\n",
      "Requirement already satisfied: certifi in c:\\users\\est.matheus.brasil\\anaconda3\\envs\\econometria\\lib\\site-packages (from fiona>=1.8->geopandas) (2022.6.15)\n",
      "Collecting click-plugins>=1.0\n",
      "  Using cached click_plugins-1.1.1-py2.py3-none-any.whl (7.5 kB)\n",
      "Collecting attrs>=17\n",
      "  Using cached attrs-22.1.0-py2.py3-none-any.whl (58 kB)\n",
      "Collecting cligj>=0.5\n",
      "  Using cached cligj-0.7.2-py3-none-any.whl (7.1 kB)\n",
      "Requirement already satisfied: setuptools in c:\\users\\est.matheus.brasil\\anaconda3\\envs\\econometria\\lib\\site-packages (from fiona>=1.8->geopandas) (61.2.0)\n",
      "Collecting click>=4.0\n",
      "  Using cached click-8.1.3-py3-none-any.whl (96 kB)\n",
      "Collecting munch\n",
      "\n",
      "  Using cached munch-2.5.0-py2.py3-none-any.whl (10 kB)\n",
      "Requirement already satisfied: six>=1.7 in c:\\users\\est.matheus.brasil\\anaconda3\\envs\\econometria\\lib\\site-packages (from fiona>=1.8->geopandas) (1.16.0)\n",
      "Requirement already satisfied: colorama in c:\\users\\est.matheus.brasil\\anaconda3\\envs\\econometria\\lib\\site-packages (from click>=4.0->fiona>=1.8->geopandas) (0.4.4)\n",
      "Requirement already satisfied: numpy>=1.21.0 in c:\\users\\est.matheus.brasil\\anaconda3\\envs\\econometria\\lib\\site-packages (from pandas>=1.0.0->geopandas) (1.22.3)\n",
      "Requirement already satisfied: pytz>=2020.1 in c:\\users\\est.matheus.brasil\\anaconda3\\envs\\econometria\\lib\\site-packages (from pandas>=1.0.0->geopandas) (2022.1)\n",
      "Requirement already satisfied: python-dateutil>=2.8.1 in c:\\users\\est.matheus.brasil\\anaconda3\\envs\\econometria\\lib\\site-packages (from pandas>=1.0.0->geopandas) (2.8.2)\n",
      "Requirement already satisfied: pyparsing!=3.0.5,>=2.0.2 in c:\\users\\est.matheus.brasil\\anaconda3\\envs\\econometria\\lib\\site-packages (from packaging->geopandas) (3.0.4)\n",
      "Installing collected packages: click, munch, cligj, click-plugins, attrs, shapely, pyproj, fiona, geopandas\n",
      "Successfully installed attrs-22.1.0 click-8.1.3 click-plugins-1.1.1 cligj-0.7.2 fiona-1.8.22 geopandas-0.12.1 munch-2.5.0 pyproj-3.4.0 shapely-1.8.5.post1\n"
     ]
    }
   ],
   "source": [
    "pip install geopandas"
   ]
  }
 ],
 "metadata": {
  "kernelspec": {
   "display_name": "Python 3.10.4 ('econometria')",
   "language": "python",
   "name": "python3"
  },
  "language_info": {
   "codemirror_mode": {
    "name": "ipython",
    "version": 3
   },
   "file_extension": ".py",
   "mimetype": "text/x-python",
   "name": "python",
   "nbconvert_exporter": "python",
   "pygments_lexer": "ipython3",
   "version": "3.10.4"
  },
  "orig_nbformat": 4,
  "vscode": {
   "interpreter": {
    "hash": "020fb74c3636dbc3e41bbd089caa0e1a2d3d4946e1fa68c0ae5e0ed145051d0a"
   }
  }
 },
 "nbformat": 4,
 "nbformat_minor": 2
}
