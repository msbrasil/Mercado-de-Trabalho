{
 "cells": [
  {
   "cell_type": "markdown",
   "metadata": {},
   "source": [
    "Pacotes necessários"
   ]
  },
  {
   "cell_type": "code",
   "execution_count": null,
   "metadata": {},
   "outputs": [],
   "source": [
    "#pacotes necessários\n",
    "\n",
    "import pandas as pd\n",
    "import numpy as np\n",
    "import matplotlib.pyplot as plt\n",
    "import seaborn as sns\n",
    "import datetime as dt\n",
    "plt.style.use('dark_background')"
   ]
  },
  {
   "cell_type": "markdown",
   "metadata": {},
   "source": [
    "Importação das bases"
   ]
  },
  {
   "cell_type": "code",
   "execution_count": null,
   "metadata": {},
   "outputs": [],
   "source": [
    "#determina qual diretório usar para cada sistema operacional.\n",
    "import os\n",
    "if os.name == 'nt': #windows\n",
    "    diretorio = 'C:\\\\Users\\\\est.matheus.brasil\\\\Documents\\\\Microdados PNAD Contínua\\\\feather\\\\'\n",
    "\n",
    "else: #linux(ou mac)\n",
    "    diretorio = '/home/matheus/Microdados PNAD/feather/'\n",
    "\n",
    "#Leitura de todas as bases com as variáveis selecionadas e criação de variáveis dinamicamente.\n",
    "\n",
    "colunas_selecionadas = ['Ano', 'Trimestre', 'UPA', 'UF', 'V1008', 'V1014', 'V2007', 'V2008', 'V20081', 'V20082', 'V2010', #Controle e chave ID\n",
    "                        '', #Variáveis de interesse\n",
    "                        'V1027', 'V1028', 'V1029', 'V1033', 'posest', 'posest_sxi'] #expansão\n",
    "                    \n",
    "for ano in range(2019, 2023):\n",
    "    for tri in range(1, 5):\n",
    "        if ano == 2019  and tri > 3:\n",
    "                print(f'lendo PNAD{ano} {tri}')\n",
    "                globals()[f'pnad_{ano}_{tri}'] = pd.read_feather(fr'{diretorio}{ano}_{tri}.feather', columns=colunas_selecionadas)\n",
    "        if 2019 < ano < 2022:\n",
    "                print(f'lendo PNAD{ano} {tri}')\n",
    "                globals()[f'pnad_{ano}_{tri}'] = pd.read_feather(fr'{diretorio}{ano}_{tri}.feather', columns=colunas_selecionadas)\n",
    "        if ano == 2022 and tri < 3:\n",
    "            print(f'lendo PNAD{ano} {tri}')\n",
    "            globals()[f'pnad_{ano}_{tri}'] = pd.read_feather(fr'{diretorio}{ano}_{tri}.feather', columns=colunas_selecionadas)"
   ]
  },
  {
   "cell_type": "markdown",
   "metadata": {},
   "source": [
    "Tratamento dos dados"
   ]
  },
  {
   "cell_type": "code",
   "execution_count": null,
   "metadata": {},
   "outputs": [],
   "source": [
    "#Concatena todos os dataframes de cada ano e trimestre em uma unica tabela.\n",
    "\n",
    "pnadc_completa = pd.concat([pnad_2019_4, \n",
    "                            pnad_2020_1, \n",
    "                            pnad_2020_2, \n",
    "                            pnad_2020_3, \n",
    "                            pnad_2020_4, \n",
    "                            pnad_2021_1, \n",
    "                            pnad_2021_2, \n",
    "                            pnad_2021_3, \n",
    "                            pnad_2021_4, \n",
    "                            pnad_2022_1, \n",
    "                            pnad_2022_2])\n",
    "#Converte variável para criar ID\n",
    "pnadc_completa['V2007'] = np.where(pnadc_completa['V2007'] == 'Homem', 0, 1)\n",
    "#Converte variáveis para numéricas\n",
    "pnadc_completa['UPA'] = pd.to_numeric(pnadc_completa['UPA'] , errors='coerce') \n",
    "pnadc_completa['V1008'] = pd.to_numeric(pnadc_completa['V1008'] , errors='coerce') \n",
    "pnadc_completa['V1014'] = pd.to_numeric(pnadc_completa['V1014'] , errors='coerce') \n",
    "pnadc_completa['V2007'] = pd.to_numeric(pnadc_completa['V2007'] , errors='coerce') \n",
    "pnadc_completa['V2008'] = pd.to_numeric(pnadc_completa['V2008'] , errors='coerce') \n",
    "pnadc_completa['V20081'] = pd.to_numeric(pnadc_completa['V20081'] , errors='coerce') \n",
    "pnadc_completa['V20082'] = pd.to_numeric(pnadc_completa['V20082'] , errors='coerce') \n",
    "\n",
    "#Cria chave ID e novo df\n",
    "pnadc_completa = pd.DataFrame({\n",
    "    #Controle\n",
    "    'Ano':pnadc_completa['Ano'], \n",
    "    'Trimestre':pnadc_completa['Trimestre'],\n",
    "    'UPA':pnadc_completa['UPA'],\n",
    "    'UF':pnadc_completa['UF'],\n",
    "    'V2007':pnadc_completa['V2007'],\n",
    "    #ID  \n",
    "    'ID': pnadc_completa['UPA'] + \n",
    "        pnadc_completa['V1008'] + \n",
    "        pnadc_completa['V1014'] + \n",
    "        pnadc_completa['V2007'] +\n",
    "        pnadc_completa['V2008'] +\n",
    "        pnadc_completa['V20081'] +\n",
    "        pnadc_completa['V20082'],\n",
    "    #Exploradas\n",
    "    'V2010': pnadc_completa['V2010'],\n",
    "    'VD4001': pnadc_completa['VD4001'],\n",
    "    'VD4002': pnadc_completa['VD4002'],\n",
    "    'VD4003': pnadc_completa['VD4003'],\n",
    "    'VD4004A': pnadc_completa['VD4004A'],\n",
    "    'VD4005': pnadc_completa['VD4005'],\n",
    "    #Expansão\n",
    "    'V1027': pnadc_completa['V1027'],\n",
    "    'V1028': pnadc_completa['V1028'],\n",
    "    'V1029': pnadc_completa['V1029'],\n",
    "    'V1033': pnadc_completa['V1033'],\n",
    "    'posest': pnadc_completa['posest'],\n",
    "    'posest_sxi': pnadc_completa['posest_sxi']\n",
    "    })\n",
    "\n",
    "#Reverte alteração da coluna V2007 para os rótulos anteiores\n",
    "pnadc_completa['V2007'] = pnadc_completa['V2007'].apply(lambda x: 'Homem' if x == 0 else 'Mulher')\n",
    "# Ordernação da série histórica por ano e trimestre.\n",
    "pnadc_completa.sort_values(by=['Ano', 'Trimestre'], inplace=True)\n",
    "#concatena a coluna 'Ano' e 'Trimestre' em uma única coluna.\n",
    "pnadc_completa['ano_tri'] = pnadc_completa['Ano'].astype(str) + 'Q' + pnadc_completa['Trimestre'].astype(str)\n",
    "#Conversão da coluna ano_tri para datetime.\n",
    "pnadc_completa['ano_tri'] = pd.to_datetime(pnadc_completa['ano_tri']).dt.to_period('Q')"
   ]
  },
  {
   "cell_type": "markdown",
   "metadata": {},
   "source": [
    "para expandir qualquer variável para população"
   ]
  },
  {
   "cell_type": "code",
   "execution_count": null,
   "metadata": {},
   "outputs": [],
   "source": [
    "pd.crosstab(pnadc_completa['ano_tri'], pnadc_completa['VARIAVEL'], values=pnadc_completa['V1028'], aggfunc='sum')"
   ]
  }
 ],
 "metadata": {
  "kernelspec": {
   "display_name": "base",
   "language": "python",
   "name": "python3"
  },
  "language_info": {
   "name": "python",
   "version": "3.9.7 (default, Sep 16 2021, 16:59:28) [MSC v.1916 64 bit (AMD64)]"
  },
  "orig_nbformat": 4,
  "vscode": {
   "interpreter": {
    "hash": "08a400adeb6830322ec40344573c657b15a9eb2eef6e1c7ab2815bda50c98d3e"
   }
  }
 },
 "nbformat": 4,
 "nbformat_minor": 2
}
