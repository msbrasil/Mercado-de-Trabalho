{
 "cells": [
  {
   "cell_type": "code",
   "execution_count": null,
   "metadata": {},
   "outputs": [],
   "source": [
    "#Importa os pacotes necessários\n",
    "\n",
    "import pandas as pd\n",
    "import numpy as np\n",
    "import matplotlib.pyplot as plt\n",
    "import seaborn as sns\n",
    "import datetime as dt\n",
    "plt.style.use('dark_background')"
   ]
  },
  {
   "cell_type": "markdown",
   "metadata": {},
   "source": [
    "#### Dicionário de Variáveis utilizadas\n",
    "|Chave|Descrição|Função|\n",
    "|-----|-----|-----|\n",
    "|**Identificação**|\n",
    "|Ano| Ano de referência|Controle|\n",
    "|Trimestre| Trimestre de referência|Controle|\n",
    "|UF| Estado|Controle|\n",
    "|Capital| Capital da UF|Controle|\n",
    "|UPA| Unidade Primária de Amostragem (UF(2) + número squencial(6) + DV(1))|Controle|\n",
    "|V1008| Número do Domicílio|Controle|\n",
    "|V1014| Painel - Grupo de Controle|Controle|\n",
    "|V1016| Número de entrevista (1 a 5)|Controle|\n",
    "|V2003| Número de ordem|Controle|\n",
    "|**Características**|\n",
    "|V2007| Sexo|Característica|\n",
    "|V2008| Dia Nascimento|Característica|\n",
    "|V20081| Mês nascimento|Característica|\n",
    "|V20082| Ano nascimento|Característica|\n",
    "|V2010| Raça|Característica|\n",
    "|**Variáveis exploradas**|\n",
    "|\n",
    "\n",
    "\n",
    "|**Auxiliares**|\n",
    "|V1028| Peso do domicílio e das pessoas sem calibração|Expansão|\n",
    "|V1029| Peso do domicílio e das pessoas com calibração|Expansão|\n",
    "|V1033| Projeção da população por sexo e idade|Expansão|\n",
    "|posest|Domínios de projeção geográficos|Expansão|\n",
    "\n",
    " Chave para pessoa: UPA + V1008 + V1014  + V2003 + V2007 + V2008 + V20081 + V20082\n",
    "\n",
    " **PARA ESTIMAÇÃO DA POPULAÇÃO, DEVE-SE USAR AS VARIÁVEIS: V1033 e posest.**\n",
    "\n"
   ]
  },
  {
   "cell_type": "markdown",
   "metadata": {},
   "source": [
    "#### Importação e tratamento dos microdados"
   ]
  },
  {
   "cell_type": "markdown",
   "metadata": {},
   "source": [
    "Importação dos microdados"
   ]
  },
  {
   "cell_type": "code",
   "execution_count": null,
   "metadata": {},
   "outputs": [
    {
     "name": "stdout",
     "output_type": "stream",
     "text": [
      "2019 4\n",
      "2020 1\n",
      "2020 2\n",
      "2020 3\n",
      "2020 4\n",
      "2021 1\n",
      "2021 2\n",
      "2021 3\n",
      "2021 4\n",
      "2022 1\n",
      "2022 2\n"
     ]
    }
   ],
   "source": [
    "#determina qual diretório usar para cada sistema operacional.\n",
    "import os\n",
    "if os.name == 'nt': #windows\n",
    "    diretorio = 'C:\\\\Users\\\\est.matheus.brasil\\\\Documents\\\\Microdados PNAD Contínua\\\\'\n",
    "    enconding = 'latin_1'\n",
    "else: #linux(ou mac)\n",
    "    diretorio = '/home/matheus/Microdados PNAD/'\n",
    "    enconding = 'utf_8_sig'\n",
    "\n",
    "#Leitura de todas as bases com as variáveis selecionadas e criação de variáveis dinamicamente.\n",
    "\n",
    "colunas_selecionadas = ['Ano', 'Trimestre', 'UPA', 'UF', 'V1008', 'V1014', 'V2007', 'V2008', 'V20081', 'V20082', 'V2010', 'V4021', 'V4022', 'V1028', 'V1029', 'V1033', 'posest', 'posest_sxi']\n",
    "\n",
    "for ano in range(2019, 2023):\n",
    "    for tri in range(1, 5):\n",
    "        if ano == 2019  and tri > 3:\n",
    "            print(ano, tri)\n",
    "            globals()[f'pnad_{ano}_{tri}'] = pd.read_csv(fr'{diretorio}{ano}_{tri}.csv', usecols=colunas_selecionadas, encoding=enconding)\n",
    "        if 2019 < ano < 2022:\n",
    "            print(ano, tri)\n",
    "            globals()[f'pnad_{ano}_{tri}'] = pd.read_csv(fr'{diretorio}{ano}_{tri}.csv', usecols=colunas_selecionadas, encoding=enconding)\n",
    "        if ano == 2022 and tri < 3:\n",
    "            print(ano, tri)\n",
    "            globals()[f'pnad_{ano}_{tri}'] = pd.read_csv(fr'{diretorio}{ano}_{tri}.csv', usecols=colunas_selecionadas, encoding=enconding)"
   ]
  },
  {
   "cell_type": "code",
   "execution_count": null,
   "metadata": {},
   "outputs": [],
   "source": [
    "#Função para automalizar importação das bases da pnad com as variáveis desejadas\n",
    "\n",
    "def importa_pnad(path, ano_inicial, ano_final, colunas):\n",
    "    import traceback\n",
    "    '''\n",
    "    path: somente o diretório onde os arquivos estão armazenados.\n",
    "    ano_inicial: ano inicial do período analisado.\n",
    "    ano_final: ano final do período analisado.\n",
    "    '''\n",
    "    try:    \n",
    "        for ano in range(ano_inicial, ano_final+1):\n",
    "            for tri in range(1, 5):\n",
    "                if ano == 2019  and tri > 3:\n",
    "                    print(ano, tri)\n",
    "                    globals()[f'pnad_{ano}_{tri}'] = pd.read_csv(fr'{path}{ano}_{tri}.csv', usecols=colunas, encoding='latin-1')\n",
    "                if 2019 < ano < 2022:\n",
    "                    print(ano, tri)\n",
    "                    globals()[f'pnad_{ano}_{tri}'] = pd.read_csv(fr'{path}{ano}_{tri}.csv', usecols=colunas, encoding='latin-1')\n",
    "                if ano == 2022 and tri < 3:\n",
    "                    print(ano, tri)\n",
    "                    globals()[f'pnad_{ano}_{tri}'] = pd.read_csv(fr'{path}{ano}_{tri}.csv', usecols=colunas, encoding='latin-1')\n",
    "        print('Dados importados com sucesso!')\n",
    "    except Exception:\n",
    "        traceback.print_exc() #mostra erro em caso de problema na importação"
   ]
  },
  {
   "cell_type": "markdown",
   "metadata": {},
   "source": [
    "Tratamento"
   ]
  },
  {
   "cell_type": "code",
   "execution_count": null,
   "metadata": {},
   "outputs": [],
   "source": [
    "#Conversão das variável V2007(sexo) para inteira para criar ID do indivíduo. (Homem = 0, Mulher = 1)\n",
    "for ano in range(2019, 2023):\n",
    "    for tri in range(1, 5):\n",
    "        if ano == 2019  and tri > 3:\n",
    "            globals()[f'pnad_{ano}_{tri}']['V2007'] = np.where(globals()[f'pnad_{ano}_{tri}']['V2007'] == 'Homem', 0, 1)\n",
    "        if 2019 < ano < 2022:\n",
    "            globals()[f'pnad_{ano}_{tri}']['V2007'] = np.where(globals()[f'pnad_{ano}_{tri}']['V2007'] == 'Homem', 0, 1)\n",
    "        if ano == 2022 and tri < 3:\n",
    "            globals()[f'pnad_{ano}_{tri}']['V2007'] = np.where(globals()[f'pnad_{ano}_{tri}']['V2007'] == 'Homem', 0, 1)\n"
   ]
  },
  {
   "cell_type": "code",
   "execution_count": null,
   "metadata": {},
   "outputs": [],
   "source": [
    "#Organização das variáveis e criação da chave de ID do indivíduo em cada dataframe.\n",
    "\n",
    "for ano in range(2019, 2023):\n",
    "    for tri in range(1, 5):\n",
    "        if ano == 2019  and tri > 3:\n",
    "            globals()[f'pnad_{ano}_{tri}_id_local'] = pd.DataFrame(\n",
    "                                                        {'Ano':globals()[f'pnad_{ano}_{tri}']['Ano'], \n",
    "                                                        'Trimestre':globals()[f'pnad_{ano}_{tri}']['Trimestre'],\n",
    "                                                        'UPA':globals()[f'pnad_{ano}_{tri}']['UPA'],\n",
    "                                                        'UF':globals()[f'pnad_{ano}_{tri}']['UF'],\n",
    "                                                        'V2007':globals()[f'pnad_{ano}_{tri}']['V2007'],  \n",
    "                                                        'ID': globals()[f'pnad_{ano}_{tri}']['UPA'] + \n",
    "                                                              globals()[f'pnad_{ano}_{tri}']['V1008'] + \n",
    "                                                              globals()[f'pnad_{ano}_{tri}']['V1014'] + \n",
    "                                                              globals()[f'pnad_{ano}_{tri}']['V2007'] +\n",
    "                                                              globals()[f'pnad_{ano}_{tri}']['V2008'] +\n",
    "                                                              globals()[f'pnad_{ano}_{tri}']['V20081'] +\n",
    "                                                              globals()[f'pnad_{ano}_{tri}']['V20082'],\n",
    "                                                        'V2010': globals()[f'pnad_{ano}_{tri}']['V2010'],\n",
    "                                                        'V4021': globals()[f'pnad_{ano}_{tri}']['V4021'],\n",
    "                                                        'V4022': globals()[f'pnad_{ano}_{tri}']['V4022'],\n",
    "                                                        'V1028': globals()[f'pnad_{ano}_{tri}']['V1028'],\n",
    "                                                        'V1029': globals()[f'pnad_{ano}_{tri}']['V1029'],\n",
    "                                                        'V1033': globals()[f'pnad_{ano}_{tri}']['V1033'],\n",
    "                                                        'posest': globals()[f'pnad_{ano}_{tri}']['posest'],\n",
    "                                                        'posest_sxi': globals()[f'pnad_{ano}_{tri}']['posest_sxi']\n",
    "                                                      })\n",
    "        if 2019 < ano < 2022:\n",
    "            globals()[f'pnad_{ano}_{tri}_id_local'] = pd.DataFrame(\n",
    "                                                        {'Ano':globals()[f'pnad_{ano}_{tri}']['Ano'], \n",
    "                                                        'Trimestre':globals()[f'pnad_{ano}_{tri}']['Trimestre'],\n",
    "                                                        'UPA':globals()[f'pnad_{ano}_{tri}']['UPA'],\n",
    "                                                        'UF':globals()[f'pnad_{ano}_{tri}']['UF'],\n",
    "                                                        'V2007':globals()[f'pnad_{ano}_{tri}']['V2007'],  \n",
    "                                                        'ID': globals()[f'pnad_{ano}_{tri}']['UPA'] + \n",
    "                                                              globals()[f'pnad_{ano}_{tri}']['V1008'] + \n",
    "                                                              globals()[f'pnad_{ano}_{tri}']['V1014'] + \n",
    "                                                              globals()[f'pnad_{ano}_{tri}']['V2007'] +\n",
    "                                                              globals()[f'pnad_{ano}_{tri}']['V2008'] +\n",
    "                                                              globals()[f'pnad_{ano}_{tri}']['V20081'] +\n",
    "                                                              globals()[f'pnad_{ano}_{tri}']['V20082'],\n",
    "                                                        'V2010': globals()[f'pnad_{ano}_{tri}']['V2010'],\n",
    "                                                        'V4021': globals()[f'pnad_{ano}_{tri}']['V4021'],\n",
    "                                                        'V4022': globals()[f'pnad_{ano}_{tri}']['V4022'],\n",
    "                                                        'V1028': globals()[f'pnad_{ano}_{tri}']['V1028'],\n",
    "                                                        'V1029': globals()[f'pnad_{ano}_{tri}']['V1029'],\n",
    "                                                        'V1033': globals()[f'pnad_{ano}_{tri}']['V1033'],\n",
    "                                                        'posest': globals()[f'pnad_{ano}_{tri}']['posest'],\n",
    "                                                        'posest_sxi': globals()[f'pnad_{ano}_{tri}']['posest_sxi']\n",
    "                                                      })\n",
    "        if ano == 2022 and tri < 3:\n",
    "            globals()[f'pnad_{ano}_{tri}_id_local'] = pd.DataFrame(\n",
    "                                                        {'Ano':globals()[f'pnad_{ano}_{tri}']['Ano'], \n",
    "                                                        'Trimestre':globals()[f'pnad_{ano}_{tri}']['Trimestre'],\n",
    "                                                        'UPA':globals()[f'pnad_{ano}_{tri}']['UPA'],\n",
    "                                                        'UF':globals()[f'pnad_{ano}_{tri}']['UF'],\n",
    "                                                        'V2007':globals()[f'pnad_{ano}_{tri}']['V2007'],  \n",
    "                                                        'ID': globals()[f'pnad_{ano}_{tri}']['UPA'] + \n",
    "                                                              globals()[f'pnad_{ano}_{tri}']['V1008'] + \n",
    "                                                              globals()[f'pnad_{ano}_{tri}']['V1014'] + \n",
    "                                                              globals()[f'pnad_{ano}_{tri}']['V2007'] +\n",
    "                                                              globals()[f'pnad_{ano}_{tri}']['V2008'] +\n",
    "                                                              globals()[f'pnad_{ano}_{tri}']['V20081'] +\n",
    "                                                              globals()[f'pnad_{ano}_{tri}']['V20082'],\n",
    "                                                        'V2010': globals()[f'pnad_{ano}_{tri}']['V2010'],\n",
    "                                                        'V4021': globals()[f'pnad_{ano}_{tri}']['V4021'],\n",
    "                                                        'V4022': globals()[f'pnad_{ano}_{tri}']['V4022'],\n",
    "                                                        'V1028': globals()[f'pnad_{ano}_{tri}']['V1028'],\n",
    "                                                        'V1029': globals()[f'pnad_{ano}_{tri}']['V1029'],\n",
    "                                                        'V1033': globals()[f'pnad_{ano}_{tri}']['V1033'],\n",
    "                                                        'posest': globals()[f'pnad_{ano}_{tri}']['posest'],\n",
    "                                                        'posest_sxi': globals()[f'pnad_{ano}_{tri}']['posest_sxi']\n",
    "                                                      })"
   ]
  },
  {
   "cell_type": "code",
   "execution_count": null,
   "metadata": {},
   "outputs": [],
   "source": [
    "#Concatena todos os dataframes de cada ano e trimestre em uma unica tabela.\n",
    "\n",
    "pnadc_completa = pd.concat([pnad_2019_4_id_local, \n",
    "                            pnad_2020_1_id_local, \n",
    "                            pnad_2020_2_id_local, \n",
    "                            pnad_2020_3_id_local, \n",
    "                            pnad_2020_4_id_local, \n",
    "                            pnad_2021_1_id_local, \n",
    "                            pnad_2021_2_id_local, \n",
    "                            pnad_2021_3_id_local, \n",
    "                            pnad_2021_4_id_local, \n",
    "                            pnad_2022_1_id_local, \n",
    "                            pnad_2022_2_id_local])"
   ]
  }
 ],
 "metadata": {
  "kernelspec": {
   "display_name": "Python 3.10.6 64-bit",
   "language": "python",
   "name": "python3"
  },
  "language_info": {
   "name": "python",
   "version": "3.10.6"
  },
  "orig_nbformat": 4,
  "vscode": {
   "interpreter": {
    "hash": "916dbcbb3f70747c44a77c7bcd40155683ae19c65e1c03b4aa3499c5328201f1"
   }
  }
 },
 "nbformat": 4,
 "nbformat_minor": 2
}
