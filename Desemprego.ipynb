{
 "cells": [
  {
   "cell_type": "code",
   "execution_count": 2,
   "metadata": {},
   "outputs": [],
   "source": [
    "#Importa os pacotes necessários\n",
    "\n",
    "import pandas as pd\n",
    "import numpy as np\n",
    "import matplotlib.pyplot as plt\n",
    "import seaborn as sns\n",
    "import datetime as dt\n",
    "plt.style.use('dark_background')"
   ]
  },
  {
   "cell_type": "markdown",
   "metadata": {},
   "source": [
    "#### Dicionário de Variáveis utilizadas\n",
    "|Chave|Descrição|Função|\n",
    "|-----|-----|-----|\n",
    "|**Identificação**|\n",
    "|Ano| Ano de referência|Controle|\n",
    "|Trimestre| Trimestre de referência|Controle|\n",
    "|UF| Estado|Controle|\n",
    "|Capital| Capital da UF|Controle|\n",
    "|UPA| Unidade Primária de Amostragem (UF(2) + número squencial(6) + DV(1))|Controle|\n",
    "|V1008| Número do Domicílio|Controle|\n",
    "|V1014| Painel - Grupo de Controle|Controle|\n",
    "|V1016| Número de entrevista (1 a 5)|Controle|\n",
    "|V2003| Número de ordem|Controle|\n",
    "|**Características**|\n",
    "|V2007| Sexo|Característica|\n",
    "|V2008| Dia Nascimento|Característica|\n",
    "|V20081| Mês nascimento|Característica|\n",
    "|V20082| Ano nascimento|Característica|\n",
    "|V2010| Raça|Característica|\n",
    "|**Variáveis exploradas**|\n",
    "| VD4001 | Condição em relação à força de trabalho na semana de referência para pessoas de 14 anos ou mais de idade | Descrição |\n",
    "| VD4002 | Condição de ocupação na semana de referência para pessoas de 14 anos ou mais de idade | Descrição |\n",
    "| VD4003 | Força de trabalho potencial para pessoas de 14 anos ou mais de idade | Descrição |\n",
    "| VD4004 | Subocupação por insuficiência de horas efetivamente trabalhadas em todos os trabalhos | Descrição |\n",
    "|**Auxiliares**|\n",
    "|V1028| Peso do domicílio e das pessoas sem calibração|Expansão|\n",
    "|V1029| Peso do domicílio e das pessoas com calibração|Expansão|\n",
    "|V1033| Projeção da população por sexo e idade|Expansão|\n",
    "|posest|Domínios de projeção geográficos|Expansão|\n",
    "\n",
    " Chave para pessoa: UPA + V1008 + V1014  + V2003 + V2007 + V2008 + V20081 + V20082\n",
    "\n",
    " **PARA ESTIMAÇÃO DA POPULAÇÃO, DEVE-SE USAR AS VARIÁVEIS: V1033 e posest.**\n",
    "\n"
   ]
  },
  {
   "cell_type": "markdown",
   "metadata": {},
   "source": [
    "#### Importação e tratamento dos microdados"
   ]
  },
  {
   "cell_type": "markdown",
   "metadata": {},
   "source": [
    "Importação dos microdados"
   ]
  },
  {
   "cell_type": "code",
   "execution_count": 5,
   "metadata": {},
   "outputs": [
    {
     "name": "stdout",
     "output_type": "stream",
     "text": [
      "2019 4\n",
      "2020 1\n",
      "2020 2\n",
      "2020 3\n",
      "2020 4\n",
      "2021 1\n",
      "2021 2\n",
      "2021 3\n",
      "2021 4\n",
      "2022 1\n",
      "2022 2\n"
     ]
    }
   ],
   "source": [
    "#determina qual diretório usar para cada sistema operacional.\n",
    "import os\n",
    "if os.name == 'nt': #windows\n",
    "    diretorio = 'C:\\\\Users\\\\est.matheus.brasil\\\\Documents\\\\Microdados PNAD Contínua\\\\feather\\\\'\n",
    "\n",
    "else: #linux(ou mac)\n",
    "    diretorio = '/home/matheus/Microdados PNAD/'\n",
    "\n",
    "\n",
    "#Leitura de todas as bases com as variáveis selecionadas e criação de variáveis dinamicamente.\n",
    "\n",
    "colunas_selecionadas = ['Ano', 'Trimestre', 'UPA', 'UF', 'V1008', 'V1014', 'V2007', 'V2008', 'V20081', 'V20082', 'V2010', #Controle\n",
    "                        'VD4001', 'VD4002', 'VD4003', 'VD4004A', #Variáveis de interesse\n",
    "                        'V1028', 'V1029', 'V1033', 'posest', 'posest_sxi'] #identificação\n",
    "\n",
    "colunas_selecionadas_sup = ['Ano', 'Trimestre', 'UPA', 'UF', 'V1008', 'V1014', 'V2007', 'V2008', 'V20081', 'V20082', 'V2010', #Controle\n",
    "                        'VD4001', 'VD4002', 'VD4003', 'VD4004A','S01021', #Variáveis de interesse\n",
    "                        'V1028', 'V1029', 'V1033', 'posest', 'posest_sxi'] #identificação\n",
    "                        \n",
    "\n",
    "for ano in range(2019, 2023):\n",
    "    for tri in range(1, 5):\n",
    "        if ano == 2019  and tri > 3:\n",
    "            if tri == 4:\n",
    "                print(ano, tri)\n",
    "                globals()[f'pnad_{ano}_{tri}'] = pd.read_feather(fr'{diretorio}{ano}_{tri}_suplementar.feather', columns=colunas_selecionadas_sup)\n",
    "            else:\n",
    "                print(ano, tri)\n",
    "                globals()[f'pnad_{ano}_{tri}'] = pd.read_feather(fr'{diretorio}{ano}_{tri}.feather', columns=colunas_selecionadas)\n",
    "        if 2019 < ano < 2022:\n",
    "            if ano == 2021 & tri == 4:\n",
    "                print(ano, tri)\n",
    "                globals()[f'pnad_{ano}_{tri}'] = pd.read_feather(fr'{diretorio}{ano}_{tri}_suplementar.feather', columns=colunas_selecionadas_sup)\n",
    "            else:\n",
    "                print(ano, tri)\n",
    "                globals()[f'pnad_{ano}_{tri}'] = pd.read_feather(fr'{diretorio}{ano}_{tri}.feather', columns=colunas_selecionadas)\n",
    "        if ano == 2022 and tri < 3:\n",
    "            print(ano, tri)\n",
    "            globals()[f'pnad_{ano}_{tri}'] = pd.read_feather(fr'{diretorio}{ano}_{tri}.feather', columns=colunas_selecionadas)"
   ]
  },
  {
   "cell_type": "code",
   "execution_count": 16,
   "metadata": {},
   "outputs": [],
   "source": [
    "#Renomear colunas para não ter conflito no merge\n",
    "pnad_2019_4.rename({'VD4004A':'VD4004'}, inplace=True)\n",
    "pnad_2021_4.rename({'VD4004A':'VD4004'}, inplace=True)"
   ]
  },
  {
   "cell_type": "code",
   "execution_count": 23,
   "metadata": {},
   "outputs": [],
   "source": [
    "#Concatena todos os dataframes de cada ano e trimestre em uma unica tabela.\n",
    "\n",
    "pnadc_completa = pd.concat([pnad_2019_4, \n",
    "                            pnad_2020_1, \n",
    "                            pnad_2020_2, \n",
    "                            pnad_2020_3, \n",
    "                            pnad_2020_4, \n",
    "                            pnad_2021_1, \n",
    "                            pnad_2021_2, \n",
    "                            pnad_2021_3, \n",
    "                            pnad_2021_4, \n",
    "                            pnad_2022_1, \n",
    "                            pnad_2022_2])\n",
    "\n",
    "pnadc_completa['V2007'] = np.where(pnadc_completa['V2007'] == 'Homem', 0, 1)"
   ]
  },
  {
   "cell_type": "code",
   "execution_count": 29,
   "metadata": {},
   "outputs": [
    {
     "name": "stdout",
     "output_type": "stream",
     "text": [
      "<class 'pandas.core.frame.DataFrame'>\n",
      "RangeIndex: 487937 entries, 0 to 487936\n",
      "Data columns (total 20 columns):\n",
      " #   Column      Non-Null Count   Dtype  \n",
      "---  ------      --------------   -----  \n",
      " 0   Ano         487937 non-null  int64  \n",
      " 1   Trimestre   487937 non-null  int64  \n",
      " 2   UPA         487937 non-null  int64  \n",
      " 3   UF          487937 non-null  object \n",
      " 4   V1008       487937 non-null  int64  \n",
      " 5   V1014       487937 non-null  int64  \n",
      " 6   V2007       487937 non-null  int32  \n",
      " 7   V2008       487937 non-null  int64  \n",
      " 8   V20081      487937 non-null  int64  \n",
      " 9   V20082      487937 non-null  int64  \n",
      " 10  V2010       487937 non-null  object \n",
      " 11  VD4001      396112 non-null  object \n",
      " 12  VD4002      230703 non-null  object \n",
      " 13  VD4003      165409 non-null  object \n",
      " 14  VD4004A     15315 non-null   object \n",
      " 15  V1028       487937 non-null  float64\n",
      " 16  V1029       487937 non-null  int64  \n",
      " 17  V1033       487937 non-null  int64  \n",
      " 18  posest      487937 non-null  int64  \n",
      " 19  posest_sxi  487937 non-null  int64  \n",
      "dtypes: float64(1), int32(1), int64(12), object(6)\n",
      "memory usage: 72.6+ MB\n"
     ]
    }
   ],
   "source": [
    "pnad_2020_1.info()"
   ]
  },
  {
   "cell_type": "code",
   "execution_count": 28,
   "metadata": {},
   "outputs": [
    {
     "name": "stdout",
     "output_type": "stream",
     "text": [
      "<class 'pandas.core.frame.DataFrame'>\n",
      "Int64Index: 461795 entries, 0 to 461794\n",
      "Data columns (total 20 columns):\n",
      " #   Column      Non-Null Count   Dtype  \n",
      "---  ------      --------------   -----  \n",
      " 0   Ano         461795 non-null  int64  \n",
      " 1   Trimestre   461795 non-null  int64  \n",
      " 2   UPA         461795 non-null  int64  \n",
      " 3   UF          461795 non-null  object \n",
      " 4   V1008       461795 non-null  int64  \n",
      " 5   V1014       461795 non-null  int64  \n",
      " 6   V2007       461795 non-null  int32  \n",
      " 7   V2008       461795 non-null  int64  \n",
      " 8   V20081      461795 non-null  int64  \n",
      " 9   V20082      461795 non-null  int64  \n",
      " 10  V2010       461795 non-null  object \n",
      " 11  VD4001      379443 non-null  object \n",
      " 12  VD4002      216287 non-null  object \n",
      " 13  VD4003      163156 non-null  object \n",
      " 14  VD4004A     15664 non-null   object \n",
      " 15  V1028       461795 non-null  float64\n",
      " 16  V1029       461795 non-null  int64  \n",
      " 17  V1033       461795 non-null  int64  \n",
      " 18  posest      461795 non-null  int64  \n",
      " 19  posest_sxi  461795 non-null  int64  \n",
      "dtypes: float64(1), int32(1), int64(12), object(6)\n",
      "memory usage: 72.2+ MB\n"
     ]
    }
   ],
   "source": [
    "pnad_2021_4.info()"
   ]
  },
  {
   "cell_type": "code",
   "execution_count": 26,
   "metadata": {},
   "outputs": [
    {
     "data": {
      "text/plain": [
       "0         110000016\n",
       "1         110000016\n",
       "2         110000016\n",
       "3         110000016\n",
       "4         110000016\n",
       "            ...    \n",
       "482113    530057544\n",
       "482114    530057544\n",
       "482115    530057544\n",
       "482116    530057544\n",
       "482117    530057544\n",
       "Name: UPA, Length: 4633736, dtype: object"
      ]
     },
     "execution_count": 26,
     "metadata": {},
     "output_type": "execute_result"
    }
   ],
   "source": []
  },
  {
   "cell_type": "code",
   "execution_count": 24,
   "metadata": {},
   "outputs": [
    {
     "ename": "TypeError",
     "evalue": "can only concatenate str (not \"int\") to str",
     "output_type": "error",
     "traceback": [
      "\u001b[1;31m---------------------------------------------------------------------------\u001b[0m",
      "\u001b[1;31mTypeError\u001b[0m                                 Traceback (most recent call last)",
      "\u001b[1;32mc:\\Users\\est.matheus.brasil\\Anaconda3\\lib\\site-packages\\pandas\\core\\ops\\array_ops.py\u001b[0m in \u001b[0;36m_na_arithmetic_op\u001b[1;34m(left, right, op, is_cmp)\u001b[0m\n\u001b[0;32m    164\u001b[0m     \u001b[1;32mtry\u001b[0m\u001b[1;33m:\u001b[0m\u001b[1;33m\u001b[0m\u001b[1;33m\u001b[0m\u001b[0m\n\u001b[1;32m--> 165\u001b[1;33m         \u001b[0mresult\u001b[0m \u001b[1;33m=\u001b[0m \u001b[0mfunc\u001b[0m\u001b[1;33m(\u001b[0m\u001b[0mleft\u001b[0m\u001b[1;33m,\u001b[0m \u001b[0mright\u001b[0m\u001b[1;33m)\u001b[0m\u001b[1;33m\u001b[0m\u001b[1;33m\u001b[0m\u001b[0m\n\u001b[0m\u001b[0;32m    166\u001b[0m     \u001b[1;32mexcept\u001b[0m \u001b[0mTypeError\u001b[0m\u001b[1;33m:\u001b[0m\u001b[1;33m\u001b[0m\u001b[1;33m\u001b[0m\u001b[0m\n",
      "\u001b[1;32mc:\\Users\\est.matheus.brasil\\Anaconda3\\lib\\site-packages\\pandas\\core\\computation\\expressions.py\u001b[0m in \u001b[0;36mevaluate\u001b[1;34m(op, a, b, use_numexpr)\u001b[0m\n\u001b[0;32m    240\u001b[0m             \u001b[1;31m# error: \"None\" not callable\u001b[0m\u001b[1;33m\u001b[0m\u001b[1;33m\u001b[0m\u001b[0m\n\u001b[1;32m--> 241\u001b[1;33m             \u001b[1;32mreturn\u001b[0m \u001b[0m_evaluate\u001b[0m\u001b[1;33m(\u001b[0m\u001b[0mop\u001b[0m\u001b[1;33m,\u001b[0m \u001b[0mop_str\u001b[0m\u001b[1;33m,\u001b[0m \u001b[0ma\u001b[0m\u001b[1;33m,\u001b[0m \u001b[0mb\u001b[0m\u001b[1;33m)\u001b[0m  \u001b[1;31m# type: ignore[misc]\u001b[0m\u001b[1;33m\u001b[0m\u001b[1;33m\u001b[0m\u001b[0m\n\u001b[0m\u001b[0;32m    242\u001b[0m     \u001b[1;32mreturn\u001b[0m \u001b[0m_evaluate_standard\u001b[0m\u001b[1;33m(\u001b[0m\u001b[0mop\u001b[0m\u001b[1;33m,\u001b[0m \u001b[0mop_str\u001b[0m\u001b[1;33m,\u001b[0m \u001b[0ma\u001b[0m\u001b[1;33m,\u001b[0m \u001b[0mb\u001b[0m\u001b[1;33m)\u001b[0m\u001b[1;33m\u001b[0m\u001b[1;33m\u001b[0m\u001b[0m\n",
      "\u001b[1;32mc:\\Users\\est.matheus.brasil\\Anaconda3\\lib\\site-packages\\pandas\\core\\computation\\expressions.py\u001b[0m in \u001b[0;36m_evaluate_numexpr\u001b[1;34m(op, op_str, a, b)\u001b[0m\n\u001b[0;32m    128\u001b[0m     \u001b[1;32mif\u001b[0m \u001b[0mresult\u001b[0m \u001b[1;32mis\u001b[0m \u001b[1;32mNone\u001b[0m\u001b[1;33m:\u001b[0m\u001b[1;33m\u001b[0m\u001b[1;33m\u001b[0m\u001b[0m\n\u001b[1;32m--> 129\u001b[1;33m         \u001b[0mresult\u001b[0m \u001b[1;33m=\u001b[0m \u001b[0m_evaluate_standard\u001b[0m\u001b[1;33m(\u001b[0m\u001b[0mop\u001b[0m\u001b[1;33m,\u001b[0m \u001b[0mop_str\u001b[0m\u001b[1;33m,\u001b[0m \u001b[0ma\u001b[0m\u001b[1;33m,\u001b[0m \u001b[0mb\u001b[0m\u001b[1;33m)\u001b[0m\u001b[1;33m\u001b[0m\u001b[1;33m\u001b[0m\u001b[0m\n\u001b[0m\u001b[0;32m    130\u001b[0m \u001b[1;33m\u001b[0m\u001b[0m\n",
      "\u001b[1;32mc:\\Users\\est.matheus.brasil\\Anaconda3\\lib\\site-packages\\pandas\\core\\computation\\expressions.py\u001b[0m in \u001b[0;36m_evaluate_standard\u001b[1;34m(op, op_str, a, b)\u001b[0m\n\u001b[0;32m     69\u001b[0m         \u001b[0m_store_test_result\u001b[0m\u001b[1;33m(\u001b[0m\u001b[1;32mFalse\u001b[0m\u001b[1;33m)\u001b[0m\u001b[1;33m\u001b[0m\u001b[1;33m\u001b[0m\u001b[0m\n\u001b[1;32m---> 70\u001b[1;33m     \u001b[1;32mreturn\u001b[0m \u001b[0mop\u001b[0m\u001b[1;33m(\u001b[0m\u001b[0ma\u001b[0m\u001b[1;33m,\u001b[0m \u001b[0mb\u001b[0m\u001b[1;33m)\u001b[0m\u001b[1;33m\u001b[0m\u001b[1;33m\u001b[0m\u001b[0m\n\u001b[0m\u001b[0;32m     71\u001b[0m \u001b[1;33m\u001b[0m\u001b[0m\n",
      "\u001b[1;31mTypeError\u001b[0m: can only concatenate str (not \"int\") to str",
      "\nDuring handling of the above exception, another exception occurred:\n",
      "\u001b[1;31mTypeError\u001b[0m                                 Traceback (most recent call last)",
      "\u001b[1;32m<ipython-input-24-473a2a147565>\u001b[0m in \u001b[0;36m<module>\u001b[1;34m\u001b[0m\n\u001b[0;32m      7\u001b[0m     \u001b[1;34m'V2007'\u001b[0m\u001b[1;33m:\u001b[0m\u001b[0mpnadc_completa\u001b[0m\u001b[1;33m[\u001b[0m\u001b[1;34m'V2007'\u001b[0m\u001b[1;33m]\u001b[0m\u001b[1;33m,\u001b[0m\u001b[1;33m\u001b[0m\u001b[1;33m\u001b[0m\u001b[0m\n\u001b[0;32m      8\u001b[0m     \u001b[1;31m#ID\u001b[0m\u001b[1;33m\u001b[0m\u001b[1;33m\u001b[0m\u001b[0m\n\u001b[1;32m----> 9\u001b[1;33m     \u001b[1;34m'ID'\u001b[0m\u001b[1;33m:\u001b[0m \u001b[0mpnadc_completa\u001b[0m\u001b[1;33m[\u001b[0m\u001b[1;34m'UPA'\u001b[0m\u001b[1;33m]\u001b[0m \u001b[1;33m+\u001b[0m\u001b[1;33m\u001b[0m\u001b[1;33m\u001b[0m\u001b[0m\n\u001b[0m\u001b[0;32m     10\u001b[0m         \u001b[0mpnadc_completa\u001b[0m\u001b[1;33m[\u001b[0m\u001b[1;34m'V1008'\u001b[0m\u001b[1;33m]\u001b[0m \u001b[1;33m+\u001b[0m\u001b[1;33m\u001b[0m\u001b[1;33m\u001b[0m\u001b[0m\n\u001b[0;32m     11\u001b[0m         \u001b[0mpnadc_completa\u001b[0m\u001b[1;33m[\u001b[0m\u001b[1;34m'V1014'\u001b[0m\u001b[1;33m]\u001b[0m \u001b[1;33m+\u001b[0m\u001b[1;33m\u001b[0m\u001b[1;33m\u001b[0m\u001b[0m\n",
      "\u001b[1;32mc:\\Users\\est.matheus.brasil\\Anaconda3\\lib\\site-packages\\pandas\\core\\ops\\common.py\u001b[0m in \u001b[0;36mnew_method\u001b[1;34m(self, other)\u001b[0m\n\u001b[0;32m     70\u001b[0m         \u001b[0mother\u001b[0m \u001b[1;33m=\u001b[0m \u001b[0mitem_from_zerodim\u001b[0m\u001b[1;33m(\u001b[0m\u001b[0mother\u001b[0m\u001b[1;33m)\u001b[0m\u001b[1;33m\u001b[0m\u001b[1;33m\u001b[0m\u001b[0m\n\u001b[0;32m     71\u001b[0m \u001b[1;33m\u001b[0m\u001b[0m\n\u001b[1;32m---> 72\u001b[1;33m         \u001b[1;32mreturn\u001b[0m \u001b[0mmethod\u001b[0m\u001b[1;33m(\u001b[0m\u001b[0mself\u001b[0m\u001b[1;33m,\u001b[0m \u001b[0mother\u001b[0m\u001b[1;33m)\u001b[0m\u001b[1;33m\u001b[0m\u001b[1;33m\u001b[0m\u001b[0m\n\u001b[0m\u001b[0;32m     73\u001b[0m \u001b[1;33m\u001b[0m\u001b[0m\n\u001b[0;32m     74\u001b[0m     \u001b[1;32mreturn\u001b[0m \u001b[0mnew_method\u001b[0m\u001b[1;33m\u001b[0m\u001b[1;33m\u001b[0m\u001b[0m\n",
      "\u001b[1;32mc:\\Users\\est.matheus.brasil\\Anaconda3\\lib\\site-packages\\pandas\\core\\arraylike.py\u001b[0m in \u001b[0;36m__add__\u001b[1;34m(self, other)\u001b[0m\n\u001b[0;32m    100\u001b[0m     \u001b[1;33m@\u001b[0m\u001b[0munpack_zerodim_and_defer\u001b[0m\u001b[1;33m(\u001b[0m\u001b[1;34m\"__add__\"\u001b[0m\u001b[1;33m)\u001b[0m\u001b[1;33m\u001b[0m\u001b[1;33m\u001b[0m\u001b[0m\n\u001b[0;32m    101\u001b[0m     \u001b[1;32mdef\u001b[0m \u001b[0m__add__\u001b[0m\u001b[1;33m(\u001b[0m\u001b[0mself\u001b[0m\u001b[1;33m,\u001b[0m \u001b[0mother\u001b[0m\u001b[1;33m)\u001b[0m\u001b[1;33m:\u001b[0m\u001b[1;33m\u001b[0m\u001b[1;33m\u001b[0m\u001b[0m\n\u001b[1;32m--> 102\u001b[1;33m         \u001b[1;32mreturn\u001b[0m \u001b[0mself\u001b[0m\u001b[1;33m.\u001b[0m\u001b[0m_arith_method\u001b[0m\u001b[1;33m(\u001b[0m\u001b[0mother\u001b[0m\u001b[1;33m,\u001b[0m \u001b[0moperator\u001b[0m\u001b[1;33m.\u001b[0m\u001b[0madd\u001b[0m\u001b[1;33m)\u001b[0m\u001b[1;33m\u001b[0m\u001b[1;33m\u001b[0m\u001b[0m\n\u001b[0m\u001b[0;32m    103\u001b[0m \u001b[1;33m\u001b[0m\u001b[0m\n\u001b[0;32m    104\u001b[0m     \u001b[1;33m@\u001b[0m\u001b[0munpack_zerodim_and_defer\u001b[0m\u001b[1;33m(\u001b[0m\u001b[1;34m\"__radd__\"\u001b[0m\u001b[1;33m)\u001b[0m\u001b[1;33m\u001b[0m\u001b[1;33m\u001b[0m\u001b[0m\n",
      "\u001b[1;32mc:\\Users\\est.matheus.brasil\\Anaconda3\\lib\\site-packages\\pandas\\core\\series.py\u001b[0m in \u001b[0;36m_arith_method\u001b[1;34m(self, other, op)\u001b[0m\n\u001b[0;32m   6257\u001b[0m     \u001b[1;32mdef\u001b[0m \u001b[0m_arith_method\u001b[0m\u001b[1;33m(\u001b[0m\u001b[0mself\u001b[0m\u001b[1;33m,\u001b[0m \u001b[0mother\u001b[0m\u001b[1;33m,\u001b[0m \u001b[0mop\u001b[0m\u001b[1;33m)\u001b[0m\u001b[1;33m:\u001b[0m\u001b[1;33m\u001b[0m\u001b[1;33m\u001b[0m\u001b[0m\n\u001b[0;32m   6258\u001b[0m         \u001b[0mself\u001b[0m\u001b[1;33m,\u001b[0m \u001b[0mother\u001b[0m \u001b[1;33m=\u001b[0m \u001b[0mops\u001b[0m\u001b[1;33m.\u001b[0m\u001b[0malign_method_SERIES\u001b[0m\u001b[1;33m(\u001b[0m\u001b[0mself\u001b[0m\u001b[1;33m,\u001b[0m \u001b[0mother\u001b[0m\u001b[1;33m)\u001b[0m\u001b[1;33m\u001b[0m\u001b[1;33m\u001b[0m\u001b[0m\n\u001b[1;32m-> 6259\u001b[1;33m         \u001b[1;32mreturn\u001b[0m \u001b[0mbase\u001b[0m\u001b[1;33m.\u001b[0m\u001b[0mIndexOpsMixin\u001b[0m\u001b[1;33m.\u001b[0m\u001b[0m_arith_method\u001b[0m\u001b[1;33m(\u001b[0m\u001b[0mself\u001b[0m\u001b[1;33m,\u001b[0m \u001b[0mother\u001b[0m\u001b[1;33m,\u001b[0m \u001b[0mop\u001b[0m\u001b[1;33m)\u001b[0m\u001b[1;33m\u001b[0m\u001b[1;33m\u001b[0m\u001b[0m\n\u001b[0m\u001b[0;32m   6260\u001b[0m \u001b[1;33m\u001b[0m\u001b[0m\n\u001b[0;32m   6261\u001b[0m \u001b[1;33m\u001b[0m\u001b[0m\n",
      "\u001b[1;32mc:\\Users\\est.matheus.brasil\\Anaconda3\\lib\\site-packages\\pandas\\core\\base.py\u001b[0m in \u001b[0;36m_arith_method\u001b[1;34m(self, other, op)\u001b[0m\n\u001b[0;32m   1323\u001b[0m \u001b[1;33m\u001b[0m\u001b[0m\n\u001b[0;32m   1324\u001b[0m         \u001b[1;32mwith\u001b[0m \u001b[0mnp\u001b[0m\u001b[1;33m.\u001b[0m\u001b[0merrstate\u001b[0m\u001b[1;33m(\u001b[0m\u001b[0mall\u001b[0m\u001b[1;33m=\u001b[0m\u001b[1;34m\"ignore\"\u001b[0m\u001b[1;33m)\u001b[0m\u001b[1;33m:\u001b[0m\u001b[1;33m\u001b[0m\u001b[1;33m\u001b[0m\u001b[0m\n\u001b[1;32m-> 1325\u001b[1;33m             \u001b[0mresult\u001b[0m \u001b[1;33m=\u001b[0m \u001b[0mops\u001b[0m\u001b[1;33m.\u001b[0m\u001b[0marithmetic_op\u001b[0m\u001b[1;33m(\u001b[0m\u001b[0mlvalues\u001b[0m\u001b[1;33m,\u001b[0m \u001b[0mrvalues\u001b[0m\u001b[1;33m,\u001b[0m \u001b[0mop\u001b[0m\u001b[1;33m)\u001b[0m\u001b[1;33m\u001b[0m\u001b[1;33m\u001b[0m\u001b[0m\n\u001b[0m\u001b[0;32m   1326\u001b[0m \u001b[1;33m\u001b[0m\u001b[0m\n\u001b[0;32m   1327\u001b[0m         \u001b[1;32mreturn\u001b[0m \u001b[0mself\u001b[0m\u001b[1;33m.\u001b[0m\u001b[0m_construct_result\u001b[0m\u001b[1;33m(\u001b[0m\u001b[0mresult\u001b[0m\u001b[1;33m,\u001b[0m \u001b[0mname\u001b[0m\u001b[1;33m=\u001b[0m\u001b[0mres_name\u001b[0m\u001b[1;33m)\u001b[0m\u001b[1;33m\u001b[0m\u001b[1;33m\u001b[0m\u001b[0m\n",
      "\u001b[1;32mc:\\Users\\est.matheus.brasil\\Anaconda3\\lib\\site-packages\\pandas\\core\\ops\\array_ops.py\u001b[0m in \u001b[0;36marithmetic_op\u001b[1;34m(left, right, op)\u001b[0m\n\u001b[0;32m    224\u001b[0m         \u001b[1;31m# error: Argument 1 to \"_na_arithmetic_op\" has incompatible type\u001b[0m\u001b[1;33m\u001b[0m\u001b[1;33m\u001b[0m\u001b[0m\n\u001b[0;32m    225\u001b[0m         \u001b[1;31m# \"Union[ExtensionArray, ndarray[Any, Any]]\"; expected \"ndarray[Any, Any]\"\u001b[0m\u001b[1;33m\u001b[0m\u001b[1;33m\u001b[0m\u001b[0m\n\u001b[1;32m--> 226\u001b[1;33m         \u001b[0mres_values\u001b[0m \u001b[1;33m=\u001b[0m \u001b[0m_na_arithmetic_op\u001b[0m\u001b[1;33m(\u001b[0m\u001b[0mleft\u001b[0m\u001b[1;33m,\u001b[0m \u001b[0mright\u001b[0m\u001b[1;33m,\u001b[0m \u001b[0mop\u001b[0m\u001b[1;33m)\u001b[0m  \u001b[1;31m# type: ignore[arg-type]\u001b[0m\u001b[1;33m\u001b[0m\u001b[1;33m\u001b[0m\u001b[0m\n\u001b[0m\u001b[0;32m    227\u001b[0m \u001b[1;33m\u001b[0m\u001b[0m\n\u001b[0;32m    228\u001b[0m     \u001b[1;32mreturn\u001b[0m \u001b[0mres_values\u001b[0m\u001b[1;33m\u001b[0m\u001b[1;33m\u001b[0m\u001b[0m\n",
      "\u001b[1;32mc:\\Users\\est.matheus.brasil\\Anaconda3\\lib\\site-packages\\pandas\\core\\ops\\array_ops.py\u001b[0m in \u001b[0;36m_na_arithmetic_op\u001b[1;34m(left, right, op, is_cmp)\u001b[0m\n\u001b[0;32m    170\u001b[0m             \u001b[1;31m# Don't do this for comparisons, as that will handle complex numbers\u001b[0m\u001b[1;33m\u001b[0m\u001b[1;33m\u001b[0m\u001b[0m\n\u001b[0;32m    171\u001b[0m             \u001b[1;31m#  incorrectly, see GH#32047\u001b[0m\u001b[1;33m\u001b[0m\u001b[1;33m\u001b[0m\u001b[0m\n\u001b[1;32m--> 172\u001b[1;33m             \u001b[0mresult\u001b[0m \u001b[1;33m=\u001b[0m \u001b[0m_masked_arith_op\u001b[0m\u001b[1;33m(\u001b[0m\u001b[0mleft\u001b[0m\u001b[1;33m,\u001b[0m \u001b[0mright\u001b[0m\u001b[1;33m,\u001b[0m \u001b[0mop\u001b[0m\u001b[1;33m)\u001b[0m\u001b[1;33m\u001b[0m\u001b[1;33m\u001b[0m\u001b[0m\n\u001b[0m\u001b[0;32m    173\u001b[0m         \u001b[1;32melse\u001b[0m\u001b[1;33m:\u001b[0m\u001b[1;33m\u001b[0m\u001b[1;33m\u001b[0m\u001b[0m\n\u001b[0;32m    174\u001b[0m             \u001b[1;32mraise\u001b[0m\u001b[1;33m\u001b[0m\u001b[1;33m\u001b[0m\u001b[0m\n",
      "\u001b[1;32mc:\\Users\\est.matheus.brasil\\Anaconda3\\lib\\site-packages\\pandas\\core\\ops\\array_ops.py\u001b[0m in \u001b[0;36m_masked_arith_op\u001b[1;34m(x, y, op)\u001b[0m\n\u001b[0;32m    108\u001b[0m         \u001b[1;31m# See GH#5284, GH#5035, GH#19448 for historical reference\u001b[0m\u001b[1;33m\u001b[0m\u001b[1;33m\u001b[0m\u001b[0m\n\u001b[0;32m    109\u001b[0m         \u001b[1;32mif\u001b[0m \u001b[0mmask\u001b[0m\u001b[1;33m.\u001b[0m\u001b[0many\u001b[0m\u001b[1;33m(\u001b[0m\u001b[1;33m)\u001b[0m\u001b[1;33m:\u001b[0m\u001b[1;33m\u001b[0m\u001b[1;33m\u001b[0m\u001b[0m\n\u001b[1;32m--> 110\u001b[1;33m             \u001b[0mresult\u001b[0m\u001b[1;33m[\u001b[0m\u001b[0mmask\u001b[0m\u001b[1;33m]\u001b[0m \u001b[1;33m=\u001b[0m \u001b[0mop\u001b[0m\u001b[1;33m(\u001b[0m\u001b[0mxrav\u001b[0m\u001b[1;33m[\u001b[0m\u001b[0mmask\u001b[0m\u001b[1;33m]\u001b[0m\u001b[1;33m,\u001b[0m \u001b[0myrav\u001b[0m\u001b[1;33m[\u001b[0m\u001b[0mmask\u001b[0m\u001b[1;33m]\u001b[0m\u001b[1;33m)\u001b[0m\u001b[1;33m\u001b[0m\u001b[1;33m\u001b[0m\u001b[0m\n\u001b[0m\u001b[0;32m    111\u001b[0m \u001b[1;33m\u001b[0m\u001b[0m\n\u001b[0;32m    112\u001b[0m     \u001b[1;32melse\u001b[0m\u001b[1;33m:\u001b[0m\u001b[1;33m\u001b[0m\u001b[1;33m\u001b[0m\u001b[0m\n",
      "\u001b[1;31mTypeError\u001b[0m: can only concatenate str (not \"int\") to str"
     ]
    }
   ],
   "source": [
    "pnadc_completa = pd.DataFrame({\n",
    "    #Controle\n",
    "    'Ano':pnadc_completa['Ano'], \n",
    "    'Trimestre':pnadc_completa['Trimestre'],\n",
    "    'UPA':pnadc_completa['UPA'],\n",
    "    'UF':pnadc_completa['UF'],\n",
    "    'V2007':pnadc_completa['V2007'],\n",
    "    #ID  \n",
    "    'ID': pnadc_completa['UPA'] + \n",
    "        pnadc_completa['V1008'] + \n",
    "        pnadc_completa['V1014'] + \n",
    "        pnadc_completa['V2007'] +\n",
    "        pnadc_completa['V2008'] +\n",
    "        pnadc_completa['V20081'] +\n",
    "        pnadc_completa['V20082'],\n",
    "    #Exploradas\n",
    "    'V2010': pnadc_completa['V2010'],\n",
    "    'VD4001': pnadc_completa['VD4001'],\n",
    "    'VD4002': pnadc_completa['VD4002'],\n",
    "    'VD4003': pnadc_completa['VD4003'],\n",
    "    'VD4004': pnadc_completa['VD4004'],\n",
    "    'S01021': pnadc_completa['S01021'],\n",
    "    #Expansão\n",
    "    'V1028': pnadc_completa['V1028'],\n",
    "    'V1029': pnadc_completa['V1029'],\n",
    "    'V1033': pnadc_completa['V1033'],\n",
    "    'posest': pnadc_completa['posest'],\n",
    "    'posest_sxi': pnadc_completa['posest_sxi']\n",
    "    })"
   ]
  },
  {
   "cell_type": "code",
   "execution_count": 21,
   "metadata": {},
   "outputs": [],
   "source": [
    "#Conversão das variável V2007(sexo) para inteira para criar ID do indivíduo. (Homem = 0, Mulher = 1)\n",
    "for ano in range(2019, 2023):\n",
    "    for tri in range(1, 5):\n",
    "        if ano == 2019  and tri > 3:\n",
    "            globals()[f'pnad_{ano}_{tri}']['V2007'] = np.where(globals()[f'pnad_{ano}_{tri}']['V2007'] == 'Homem', 0, 1)\n",
    "        if 2019 < ano < 2022:\n",
    "            globals()[f'pnad_{ano}_{tri}']['V2007'] = np.where(globals()[f'pnad_{ano}_{tri}']['V2007'] == 'Homem', 0, 1)\n",
    "        if ano == 2022 and tri < 3:\n",
    "            globals()[f'pnad_{ano}_{tri}']['V2007'] = np.where(globals()[f'pnad_{ano}_{tri}']['V2007'] == 'Homem', 0, 1)\n"
   ]
  },
  {
   "cell_type": "code",
   "execution_count": 6,
   "metadata": {},
   "outputs": [],
   "source": [
    "#Organização das variáveis e criação da chave de ID do indivíduo em cada dataframe.\n",
    "\n",
    "for ano in range(2019, 2023):\n",
    "    for tri in range(1, 5):\n",
    "        if ano == 2019  and tri > 3:\n",
    "            globals()[f'pnad_{ano}_{tri}_id_sit'] = pd.DataFrame({\n",
    "                                                      'Ano':globals()[f'pnad_{ano}_{tri}']['Ano'], \n",
    "                                                      'Trimestre':globals()[f'pnad_{ano}_{tri}']['Trimestre'],\n",
    "                                                      'UPA':globals()[f'pnad_{ano}_{tri}']['UPA'],\n",
    "                                                      'UF':globals()[f'pnad_{ano}_{tri}']['UF'],\n",
    "                                                      'V2007':globals()[f'pnad_{ano}_{tri}']['V2007'],  \n",
    "                                                      'ID': globals()[f'pnad_{ano}_{tri}']['UPA'] + \n",
    "                                                            globals()[f'pnad_{ano}_{tri}']['V1008'] + \n",
    "                                                            globals()[f'pnad_{ano}_{tri}']['V1014'] + \n",
    "                                                            globals()[f'pnad_{ano}_{tri}']['V2007'] +\n",
    "                                                            globals()[f'pnad_{ano}_{tri}']['V2008'] +\n",
    "                                                            globals()[f'pnad_{ano}_{tri}']['V20081'] +\n",
    "                                                            globals()[f'pnad_{ano}_{tri}']['V20082'],\n",
    "                                                      'V2010': globals()[f'pnad_{ano}_{tri}']['V2010'],\n",
    "                                                      'VD4001': globals()[f'pnad_{ano}_{tri}']['VD4001'],\n",
    "                                                      'VD4002': globals()[f'pnad_{ano}_{tri}']['VD4002'],\n",
    "                                                      'VD4003': globals()[f'pnad_{ano}_{tri}']['VD4003'],\n",
    "                                                      'VD4004': globals()[f'pnad_{ano}_{tri}']['VD4004'],\n",
    "                                                      'V1028': globals()[f'pnad_{ano}_{tri}']['V1028'],\n",
    "                                                      'V1029': globals()[f'pnad_{ano}_{tri}']['V1029'],\n",
    "                                                      'V1033': globals()[f'pnad_{ano}_{tri}']['V1033'],\n",
    "                                                      'posest': globals()[f'pnad_{ano}_{tri}']['posest'],\n",
    "                                                      'posest_sxi': globals()[f'pnad_{ano}_{tri}']['posest_sxi']\n",
    "                                                      })\n",
    "        if 2019 < ano < 2022:\n",
    "            globals()[f'pnad_{ano}_{tri}_id_sit'] = pd.DataFrame({\n",
    "                                                      'Ano':globals()[f'pnad_{ano}_{tri}']['Ano'], \n",
    "                                                      'Trimestre':globals()[f'pnad_{ano}_{tri}']['Trimestre'],\n",
    "                                                      'UPA':globals()[f'pnad_{ano}_{tri}']['UPA'],\n",
    "                                                      'UF':globals()[f'pnad_{ano}_{tri}']['UF'],\n",
    "                                                      'V2007':globals()[f'pnad_{ano}_{tri}']['V2007'],  \n",
    "                                                      'ID': globals()[f'pnad_{ano}_{tri}']['UPA'] + \n",
    "                                                            globals()[f'pnad_{ano}_{tri}']['V1008'] + \n",
    "                                                            globals()[f'pnad_{ano}_{tri}']['V1014'] + \n",
    "                                                            globals()[f'pnad_{ano}_{tri}']['V2007'] +\n",
    "                                                            globals()[f'pnad_{ano}_{tri}']['V2008'] +\n",
    "                                                            globals()[f'pnad_{ano}_{tri}']['V20081'] +\n",
    "                                                            globals()[f'pnad_{ano}_{tri}']['V20082'],\n",
    "                                                      'V2010': globals()[f'pnad_{ano}_{tri}']['V2010'],\n",
    "                                                      'VD4001': globals()[f'pnad_{ano}_{tri}']['VD4001'],\n",
    "                                                      'VD4002': globals()[f'pnad_{ano}_{tri}']['VD4002'],\n",
    "                                                      'VD4003': globals()[f'pnad_{ano}_{tri}']['VD4003'],\n",
    "                                                      'VD4004': globals()[f'pnad_{ano}_{tri}']['VD4004'],\n",
    "                                                      'V1028': globals()[f'pnad_{ano}_{tri}']['V1028'],\n",
    "                                                      'V1029': globals()[f'pnad_{ano}_{tri}']['V1029'],\n",
    "                                                      'V1033': globals()[f'pnad_{ano}_{tri}']['V1033'],\n",
    "                                                      'posest': globals()[f'pnad_{ano}_{tri}']['posest'],\n",
    "                                                      'posest_sxi': globals()[f'pnad_{ano}_{tri}']['posest_sxi']\n",
    "                                                      })\n",
    "        if ano == 2022 and tri < 3:\n",
    "            globals()[f'pnad_{ano}_{tri}_id_sit'] = pd.DataFrame({\n",
    "                                                      'Ano':globals()[f'pnad_{ano}_{tri}']['Ano'], \n",
    "                                                      'Trimestre':globals()[f'pnad_{ano}_{tri}']['Trimestre'],\n",
    "                                                      'UPA':globals()[f'pnad_{ano}_{tri}']['UPA'],\n",
    "                                                      'UF':globals()[f'pnad_{ano}_{tri}']['UF'],\n",
    "                                                      'V2007':globals()[f'pnad_{ano}_{tri}']['V2007'],  \n",
    "                                                      'ID': globals()[f'pnad_{ano}_{tri}']['UPA'] + \n",
    "                                                            globals()[f'pnad_{ano}_{tri}']['V1008'] + \n",
    "                                                            globals()[f'pnad_{ano}_{tri}']['V1014'] + \n",
    "                                                            globals()[f'pnad_{ano}_{tri}']['V2007'] +\n",
    "                                                            globals()[f'pnad_{ano}_{tri}']['V2008'] +\n",
    "                                                            globals()[f'pnad_{ano}_{tri}']['V20081'] +\n",
    "                                                            globals()[f'pnad_{ano}_{tri}']['V20082'],\n",
    "                                                      'V2010': globals()[f'pnad_{ano}_{tri}']['V2010'],\n",
    "                                                      'VD4001': globals()[f'pnad_{ano}_{tri}']['VD4001'],\n",
    "                                                      'VD4002': globals()[f'pnad_{ano}_{tri}']['VD4002'],\n",
    "                                                      'VD4003': globals()[f'pnad_{ano}_{tri}']['VD4003'],\n",
    "                                                      'VD4004': globals()[f'pnad_{ano}_{tri}']['VD4004'],\n",
    "                                                      'V1028': globals()[f'pnad_{ano}_{tri}']['V1028'],\n",
    "                                                      'V1029': globals()[f'pnad_{ano}_{tri}']['V1029'],\n",
    "                                                      'V1033': globals()[f'pnad_{ano}_{tri}']['V1033'],\n",
    "                                                      'posest': globals()[f'pnad_{ano}_{tri}']['posest'],\n",
    "                                                      'posest_sxi': globals()[f'pnad_{ano}_{tri}']['posest_sxi']\n",
    "                                                      })"
   ]
  },
  {
   "cell_type": "code",
   "execution_count": 7,
   "metadata": {},
   "outputs": [],
   "source": [
    "#Concatena todos os dataframes de cada ano e trimestre em uma unica tabela.\n",
    "\n",
    "pnadc_completa = pd.concat([pnad_2019_4_id_sit, \n",
    "                            pnad_2020_1_id_sit, \n",
    "                            pnad_2020_2_id_sit, \n",
    "                            pnad_2020_3_id_sit, \n",
    "                            pnad_2020_4_id_sit, \n",
    "                            pnad_2021_1_id_sit, \n",
    "                            pnad_2021_2_id_sit, \n",
    "                            pnad_2021_3_id_sit, \n",
    "                            pnad_2021_4_id_sit, \n",
    "                            pnad_2022_1_id_sit, \n",
    "                            pnad_2022_2_id_sit])"
   ]
  },
  {
   "cell_type": "code",
   "execution_count": 23,
   "metadata": {},
   "outputs": [],
   "source": [
    "# Ordernação da série histórica por ano e trimestre.\n",
    "pnadc_completa.sort_values(by=['Ano', 'Trimestre'], inplace=True)"
   ]
  },
  {
   "cell_type": "code",
   "execution_count": 24,
   "metadata": {},
   "outputs": [],
   "source": [
    "#concatena a coluna 'Ano' e 'Trimestre' em uma única coluna.\n",
    "pnadc_completa['ano_tri'] = pnadc_completa['Ano'].astype(str) + 'Q' + pnadc_completa['Trimestre'].astype(str)"
   ]
  },
  {
   "cell_type": "code",
   "execution_count": 27,
   "metadata": {},
   "outputs": [],
   "source": [
    "#Conversão da coluna ano_tri para datetime.\n",
    "pnadc_completa['ano_tri'] = pd.to_datetime(pnadc_completa['ano_tri']).dt.to_period('Q')"
   ]
  },
  {
   "cell_type": "code",
   "execution_count": 29,
   "metadata": {},
   "outputs": [
    {
     "data": {
      "image/png": "[encoded data removed]",
      "text/plain": [
       "<Figure size 1500x500 with 2 Axes>"
      ]
     },
     "metadata": {},
     "output_type": "display_data"
    }
   ],
   "source": [
    "situacao_expandida = pd.crosstab(index=pnadc_completa['ano_tri'],\n",
    "                            columns=pnadc_completa['VD4002'], \n",
    "                            values=(pnadc_completa['V1029']*pnadc_completa['posest'])/pnadc_completa['V1029'], \n",
    "                            aggfunc='sum',\n",
    "                            normalize='index')                            \n",
    "\n",
    "fig, ax = plt.subplots(1, 2, figsize=(15,5))\n",
    "\n",
    "situacao_expandida.plot(ax=ax[0], kind='bar', stacked=True, title='Situação do domicílio - PNADC')\n",
    "\n",
    "situacao_expandida.plot(ax=ax[1])\n",
    "\n",
    "plt.legend(bbox_to_anchor=(1, 0.6), loc='upper right', prop={'size': 10})\n",
    "plt.axvline(x = '2020Q2', color = 'b', label = 'Início do Lockdown no Brasil')\n",
    "plt.axvline(x = '2021Q1', color = 'r', label = 'Início da vacinação no Brasil')\n",
    "plt.xlabel('Ano e Trimestre')\n",
    "plt.ylabel('Quantidade de pessoas (em milhões)')\n",
    "\n",
    "plt.show()"
   ]
  },
  {
   "cell_type": "markdown",
   "metadata": {},
   "source": [
    "Fluxo de desemprego"
   ]
  },
  {
   "cell_type": "code",
   "execution_count": 31,
   "metadata": {},
   "outputs": [],
   "source": [
    "fluxo1 = pnadc_completa[(pnadc_completa['ano_tri']=='2019Q4')&(pnadc_completa['VD4001']=='Pessoas na força de trabalho')][['ID','VD4002']]\n",
    "fluxo2 = pnadc_completa[(pnadc_completa['ano_tri']=='2020Q1')&(pnadc_completa['VD4001']=='Pessoas na força de trabalho')][['ID','VD4002']]\n",
    "fluxos = pd.merge(fluxo1, fluxo2, on='ID', how='inner')\n",
    "fluxos.columns = ['ID', 'VD4002 2019', 'VD4002 2020']"
   ]
  },
  {
   "cell_type": "code",
   "execution_count": 32,
   "metadata": {},
   "outputs": [
    {
     "data": {
      "text/html": [
       "<div>\n",
       "<style scoped>\n",
       "    .dataframe tbody tr th:only-of-type {\n",
       "        vertical-align: middle;\n",
       "    }\n",
       "\n",
       "    .dataframe tbody tr th {\n",
       "        vertical-align: top;\n",
       "    }\n",
       "\n",
       "    .dataframe thead th {\n",
       "        text-align: right;\n",
       "    }\n",
       "</style>\n",
       "<table border=\"1\" class=\"dataframe\">\n",
       "  <thead>\n",
       "    <tr style=\"text-align: right;\">\n",
       "      <th></th>\n",
       "      <th>ID</th>\n",
       "      <th>VD4002 2019</th>\n",
       "      <th>VD4002 2020</th>\n",
       "    </tr>\n",
       "  </thead>\n",
       "  <tbody>\n",
       "    <tr>\n",
       "      <th>0</th>\n",
       "      <td>110002003</td>\n",
       "      <td>Pessoas ocupadas</td>\n",
       "      <td>Pessoas ocupadas</td>\n",
       "    </tr>\n",
       "    <tr>\n",
       "      <th>1</th>\n",
       "      <td>110002020</td>\n",
       "      <td>Pessoas ocupadas</td>\n",
       "      <td>Pessoas ocupadas</td>\n",
       "    </tr>\n",
       "    <tr>\n",
       "      <th>2</th>\n",
       "      <td>110002036</td>\n",
       "      <td>Pessoas ocupadas</td>\n",
       "      <td>Pessoas ocupadas</td>\n",
       "    </tr>\n",
       "    <tr>\n",
       "      <th>3</th>\n",
       "      <td>110002036</td>\n",
       "      <td>Pessoas ocupadas</td>\n",
       "      <td>Pessoas ocupadas</td>\n",
       "    </tr>\n",
       "    <tr>\n",
       "      <th>4</th>\n",
       "      <td>110002036</td>\n",
       "      <td>Pessoas ocupadas</td>\n",
       "      <td>Pessoas ocupadas</td>\n",
       "    </tr>\n",
       "    <tr>\n",
       "      <th>...</th>\n",
       "      <td>...</td>\n",
       "      <td>...</td>\n",
       "      <td>...</td>\n",
       "    </tr>\n",
       "    <tr>\n",
       "      <th>236836</th>\n",
       "      <td>530046445</td>\n",
       "      <td>Pessoas ocupadas</td>\n",
       "      <td>Pessoas ocupadas</td>\n",
       "    </tr>\n",
       "    <tr>\n",
       "      <th>236837</th>\n",
       "      <td>530046470</td>\n",
       "      <td>Pessoas ocupadas</td>\n",
       "      <td>Pessoas ocupadas</td>\n",
       "    </tr>\n",
       "    <tr>\n",
       "      <th>236838</th>\n",
       "      <td>530046483</td>\n",
       "      <td>Pessoas ocupadas</td>\n",
       "      <td>Pessoas ocupadas</td>\n",
       "    </tr>\n",
       "    <tr>\n",
       "      <th>236839</th>\n",
       "      <td>530046462</td>\n",
       "      <td>Pessoas ocupadas</td>\n",
       "      <td>Pessoas ocupadas</td>\n",
       "    </tr>\n",
       "    <tr>\n",
       "      <th>236840</th>\n",
       "      <td>530046492</td>\n",
       "      <td>Pessoas desocupadas</td>\n",
       "      <td>Pessoas ocupadas</td>\n",
       "    </tr>\n",
       "  </tbody>\n",
       "</table>\n",
       "<p>236841 rows × 3 columns</p>\n",
       "</div>"
      ],
      "text/plain": [
       "               ID          VD4002 2019       VD4002 2020\n",
       "0       110002003     Pessoas ocupadas  Pessoas ocupadas\n",
       "1       110002020     Pessoas ocupadas  Pessoas ocupadas\n",
       "2       110002036     Pessoas ocupadas  Pessoas ocupadas\n",
       "3       110002036     Pessoas ocupadas  Pessoas ocupadas\n",
       "4       110002036     Pessoas ocupadas  Pessoas ocupadas\n",
       "...           ...                  ...               ...\n",
       "236836  530046445     Pessoas ocupadas  Pessoas ocupadas\n",
       "236837  530046470     Pessoas ocupadas  Pessoas ocupadas\n",
       "236838  530046483     Pessoas ocupadas  Pessoas ocupadas\n",
       "236839  530046462     Pessoas ocupadas  Pessoas ocupadas\n",
       "236840  530046492  Pessoas desocupadas  Pessoas ocupadas\n",
       "\n",
       "[236841 rows x 3 columns]"
      ]
     },
     "execution_count": 32,
     "metadata": {},
     "output_type": "execute_result"
    }
   ],
   "source": [
    "fluxos"
   ]
  },
  {
   "cell_type": "code",
   "execution_count": 33,
   "metadata": {},
   "outputs": [
    {
     "data": {
      "image/png": "[encoded data removed]",
      "text/plain": [
       "<Figure size 600x600 with 1 Axes>"
      ]
     },
     "metadata": {},
     "output_type": "display_data"
    }
   ],
   "source": [
    "from pySankey.sankey import sankey\n",
    "\n",
    "\n",
    "sankey(fluxos[\"VD4002 2019\"], fluxos[\"VD4002 2020\"], aspect=20, fontsize=12, )\n",
    "plt.title('Fluxo de pessoas na força de trabalho entre 4T2019 e 1T2020', fontsize=15)\n",
    "plt.show()"
   ]
  },
  {
   "cell_type": "code",
   "execution_count": 34,
   "metadata": {},
   "outputs": [],
   "source": [
    "situacao = pd.crosstab(index=pnadc_completa['VD4002'],\n",
    "                            columns=pnadc_completa['ano_tri'], \n",
    "                            values=(pnadc_completa['V1029']*pnadc_completa['posest'])/pnadc_completa['V1029'], \n",
    "                            aggfunc='sum')"
   ]
  },
  {
   "cell_type": "code",
   "execution_count": 35,
   "metadata": {},
   "outputs": [],
   "source": [
    "situacao.reset_index(inplace=True)"
   ]
  }
 ],
 "metadata": {
  "kernelspec": {
   "display_name": "Python 3.9.7 ('base')",
   "language": "python",
   "name": "python3"
  },
  "language_info": {
   "codemirror_mode": {
    "name": "ipython",
    "version": 3
   },
   "file_extension": ".py",
   "mimetype": "text/x-python",
   "name": "python",
   "nbconvert_exporter": "python",
   "pygments_lexer": "ipython3",
   "version": "3.9.7"
  },
  "orig_nbformat": 4,
  "vscode": {
   "interpreter": {
    "hash": "08a400adeb6830322ec40344573c657b15a9eb2eef6e1c7ab2815bda50c98d3e"
   }
  }
 },
 "nbformat": 4,
 "nbformat_minor": 2
}
